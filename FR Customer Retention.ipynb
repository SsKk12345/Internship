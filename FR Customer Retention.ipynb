{
 "cells": [
  {
   "cell_type": "code",
   "execution_count": 1,
   "id": "67640aa0",
   "metadata": {},
   "outputs": [],
   "source": [
    "# importing pandas library to extract data from excel\n",
    "import pandas as pd"
   ]
  },
  {
   "cell_type": "code",
   "execution_count": 24,
   "id": "18bad473",
   "metadata": {},
   "outputs": [],
   "source": [
    "# extracting the data from excel file\n",
    "df = pd.read_excel(r\"C:\\Users\\sonus\\Downloads\\Customer_retention_dataset\\Customer_retention_dataset\\customer_retention_dataset.xlsx\")"
   ]
  },
  {
   "cell_type": "code",
   "execution_count": 25,
   "id": "508a376e",
   "metadata": {},
   "outputs": [
    {
     "data": {
      "text/html": [
       "<div>\n",
       "<style scoped>\n",
       "    .dataframe tbody tr th:only-of-type {\n",
       "        vertical-align: middle;\n",
       "    }\n",
       "\n",
       "    .dataframe tbody tr th {\n",
       "        vertical-align: top;\n",
       "    }\n",
       "\n",
       "    .dataframe thead th {\n",
       "        text-align: right;\n",
       "    }\n",
       "</style>\n",
       "<table border=\"1\" class=\"dataframe\">\n",
       "  <thead>\n",
       "    <tr style=\"text-align: right;\">\n",
       "      <th></th>\n",
       "      <th>1Gender of respondent</th>\n",
       "      <th>2 How old are you?</th>\n",
       "      <th>3 Which city do you shop online from?</th>\n",
       "      <th>4 What is the Pin Code of where you shop online from?</th>\n",
       "      <th>5 Since How Long You are Shopping Online ?</th>\n",
       "      <th>6 How many times you have made an online purchase in the past 1 year?</th>\n",
       "      <th>7 How do you access the internet while shopping on-line?</th>\n",
       "      <th>8 Which device do you use to access the online shopping?</th>\n",
       "      <th>9 What is the screen size of your mobile device?\\t\\t\\t\\t\\t\\t</th>\n",
       "      <th>10 What is the operating system (OS) of your device?\\t\\t\\t\\t</th>\n",
       "      <th>...</th>\n",
       "      <th>Longer time to get logged in (promotion, sales period)</th>\n",
       "      <th>Longer time in displaying graphics and photos (promotion, sales period)</th>\n",
       "      <th>Late declaration of price (promotion, sales period)</th>\n",
       "      <th>Longer page loading time (promotion, sales period)</th>\n",
       "      <th>Limited mode of payment on most products (promotion, sales period)</th>\n",
       "      <th>Longer delivery period</th>\n",
       "      <th>Change in website/Application design</th>\n",
       "      <th>Frequent disruption when moving from one page to another</th>\n",
       "      <th>Website is as efficient as before</th>\n",
       "      <th>Which of the Indian online retailer would you recommend to a friend?</th>\n",
       "    </tr>\n",
       "  </thead>\n",
       "  <tbody>\n",
       "    <tr>\n",
       "      <th>0</th>\n",
       "      <td>Male</td>\n",
       "      <td>31-40 years</td>\n",
       "      <td>Delhi</td>\n",
       "      <td>110009</td>\n",
       "      <td>Above 4 years</td>\n",
       "      <td>31-40 times</td>\n",
       "      <td>Dial-up</td>\n",
       "      <td>Desktop</td>\n",
       "      <td>Others</td>\n",
       "      <td>Window/windows Mobile</td>\n",
       "      <td>...</td>\n",
       "      <td>Amazon.in</td>\n",
       "      <td>Amazon.in</td>\n",
       "      <td>Flipkart.com</td>\n",
       "      <td>Flipkart.com</td>\n",
       "      <td>Amazon.in</td>\n",
       "      <td>Paytm.com</td>\n",
       "      <td>Flipkart.com</td>\n",
       "      <td>Amazon.in</td>\n",
       "      <td>Amazon.in</td>\n",
       "      <td>Flipkart.com</td>\n",
       "    </tr>\n",
       "    <tr>\n",
       "      <th>1</th>\n",
       "      <td>Female</td>\n",
       "      <td>21-30 years</td>\n",
       "      <td>Delhi</td>\n",
       "      <td>110030</td>\n",
       "      <td>Above 4 years</td>\n",
       "      <td>41 times and above</td>\n",
       "      <td>Wi-Fi</td>\n",
       "      <td>Smartphone</td>\n",
       "      <td>4.7 inches</td>\n",
       "      <td>IOS/Mac</td>\n",
       "      <td>...</td>\n",
       "      <td>Amazon.in, Flipkart.com</td>\n",
       "      <td>Myntra.com</td>\n",
       "      <td>snapdeal.com</td>\n",
       "      <td>Snapdeal.com</td>\n",
       "      <td>Snapdeal.com</td>\n",
       "      <td>Snapdeal.com</td>\n",
       "      <td>Amazon.in</td>\n",
       "      <td>Myntra.com</td>\n",
       "      <td>Amazon.in, Flipkart.com</td>\n",
       "      <td>Amazon.in, Myntra.com</td>\n",
       "    </tr>\n",
       "    <tr>\n",
       "      <th>2</th>\n",
       "      <td>Female</td>\n",
       "      <td>21-30 years</td>\n",
       "      <td>Greater Noida</td>\n",
       "      <td>201308</td>\n",
       "      <td>3-4 years</td>\n",
       "      <td>41 times and above</td>\n",
       "      <td>Mobile Internet</td>\n",
       "      <td>Smartphone</td>\n",
       "      <td>5.5 inches</td>\n",
       "      <td>Android</td>\n",
       "      <td>...</td>\n",
       "      <td>Myntra.com</td>\n",
       "      <td>Myntra.com</td>\n",
       "      <td>Myntra.com</td>\n",
       "      <td>Myntra.com</td>\n",
       "      <td>Amazon.in</td>\n",
       "      <td>Paytm.com</td>\n",
       "      <td>Paytm.com</td>\n",
       "      <td>Paytm.com</td>\n",
       "      <td>Amazon.in</td>\n",
       "      <td>Amazon.in, Paytm.com, Myntra.com</td>\n",
       "    </tr>\n",
       "    <tr>\n",
       "      <th>3</th>\n",
       "      <td>Male</td>\n",
       "      <td>21-30 years</td>\n",
       "      <td>Karnal</td>\n",
       "      <td>132001</td>\n",
       "      <td>3-4 years</td>\n",
       "      <td>Less than 10 times</td>\n",
       "      <td>Mobile Internet</td>\n",
       "      <td>Smartphone</td>\n",
       "      <td>5.5 inches</td>\n",
       "      <td>IOS/Mac</td>\n",
       "      <td>...</td>\n",
       "      <td>Snapdeal.com</td>\n",
       "      <td>Myntra.com, Snapdeal.com</td>\n",
       "      <td>Myntra.com</td>\n",
       "      <td>Paytm.com</td>\n",
       "      <td>Paytm.com</td>\n",
       "      <td>Paytm.com</td>\n",
       "      <td>Amazon.in, Flipkart.com</td>\n",
       "      <td>Amazon.in, Flipkart.com</td>\n",
       "      <td>Amazon.in, Flipkart.com, Paytm.com</td>\n",
       "      <td>Amazon.in, Flipkart.com</td>\n",
       "    </tr>\n",
       "    <tr>\n",
       "      <th>4</th>\n",
       "      <td>Female</td>\n",
       "      <td>21-30 years</td>\n",
       "      <td>Bangalore</td>\n",
       "      <td>530068</td>\n",
       "      <td>2-3 years</td>\n",
       "      <td>11-20 times</td>\n",
       "      <td>Wi-Fi</td>\n",
       "      <td>Smartphone</td>\n",
       "      <td>4.7 inches</td>\n",
       "      <td>IOS/Mac</td>\n",
       "      <td>...</td>\n",
       "      <td>Flipkart.com, Paytm.com</td>\n",
       "      <td>Paytm.com</td>\n",
       "      <td>Paytm.com</td>\n",
       "      <td>Paytm.com</td>\n",
       "      <td>Snapdeal.com</td>\n",
       "      <td>Paytm.com</td>\n",
       "      <td>Amazon.in</td>\n",
       "      <td>Snapdeal.com</td>\n",
       "      <td>Paytm.com</td>\n",
       "      <td>Amazon.in, Myntra.com</td>\n",
       "    </tr>\n",
       "    <tr>\n",
       "      <th>...</th>\n",
       "      <td>...</td>\n",
       "      <td>...</td>\n",
       "      <td>...</td>\n",
       "      <td>...</td>\n",
       "      <td>...</td>\n",
       "      <td>...</td>\n",
       "      <td>...</td>\n",
       "      <td>...</td>\n",
       "      <td>...</td>\n",
       "      <td>...</td>\n",
       "      <td>...</td>\n",
       "      <td>...</td>\n",
       "      <td>...</td>\n",
       "      <td>...</td>\n",
       "      <td>...</td>\n",
       "      <td>...</td>\n",
       "      <td>...</td>\n",
       "      <td>...</td>\n",
       "      <td>...</td>\n",
       "      <td>...</td>\n",
       "      <td>...</td>\n",
       "    </tr>\n",
       "    <tr>\n",
       "      <th>264</th>\n",
       "      <td>Female</td>\n",
       "      <td>21-30 years</td>\n",
       "      <td>Solan</td>\n",
       "      <td>173212</td>\n",
       "      <td>1-2 years</td>\n",
       "      <td>Less than 10 times</td>\n",
       "      <td>Mobile Internet</td>\n",
       "      <td>Smartphone</td>\n",
       "      <td>5.5 inches</td>\n",
       "      <td>Android</td>\n",
       "      <td>...</td>\n",
       "      <td>Amazon.in</td>\n",
       "      <td>Amazon.in</td>\n",
       "      <td>Amazon.in</td>\n",
       "      <td>Amazon.in</td>\n",
       "      <td>Amazon.in</td>\n",
       "      <td>Amazon.in</td>\n",
       "      <td>Amazon.in</td>\n",
       "      <td>Amazon.in</td>\n",
       "      <td>Amazon.in</td>\n",
       "      <td>Amazon.in</td>\n",
       "    </tr>\n",
       "    <tr>\n",
       "      <th>265</th>\n",
       "      <td>Female</td>\n",
       "      <td>31-40 years</td>\n",
       "      <td>Ghaziabad</td>\n",
       "      <td>201008</td>\n",
       "      <td>1-2 years</td>\n",
       "      <td>31-40 times</td>\n",
       "      <td>Mobile Internet</td>\n",
       "      <td>Smartphone</td>\n",
       "      <td>Others</td>\n",
       "      <td>Android</td>\n",
       "      <td>...</td>\n",
       "      <td>Flipkart.com</td>\n",
       "      <td>Flipkart.com</td>\n",
       "      <td>Flipkart.com</td>\n",
       "      <td>Flipkart.com</td>\n",
       "      <td>Flipkart.com</td>\n",
       "      <td>Flipkart.com</td>\n",
       "      <td>Flipkart.com</td>\n",
       "      <td>Flipkart.com</td>\n",
       "      <td>Flipkart.com</td>\n",
       "      <td>Flipkart.com</td>\n",
       "    </tr>\n",
       "    <tr>\n",
       "      <th>266</th>\n",
       "      <td>Female</td>\n",
       "      <td>41-50 yaers</td>\n",
       "      <td>Bangalore</td>\n",
       "      <td>560010</td>\n",
       "      <td>2-3 years</td>\n",
       "      <td>Less than 10 times</td>\n",
       "      <td>Mobile internet</td>\n",
       "      <td>Laptop</td>\n",
       "      <td>Others</td>\n",
       "      <td>Window/windows Mobile</td>\n",
       "      <td>...</td>\n",
       "      <td>Amazon.in</td>\n",
       "      <td>Snapdeal.com</td>\n",
       "      <td>Amazon.in</td>\n",
       "      <td>Snapdeal.com</td>\n",
       "      <td>Snapdeal.com</td>\n",
       "      <td>Snapdeal.com</td>\n",
       "      <td>Snapdeal.com</td>\n",
       "      <td>Snapdeal.com</td>\n",
       "      <td>Amazon.in</td>\n",
       "      <td>Amazon.in</td>\n",
       "    </tr>\n",
       "    <tr>\n",
       "      <th>267</th>\n",
       "      <td>Female</td>\n",
       "      <td>Less than 20 years</td>\n",
       "      <td>Solan</td>\n",
       "      <td>173229</td>\n",
       "      <td>2-3 years</td>\n",
       "      <td>Less than 10 times</td>\n",
       "      <td>Wi-Fi</td>\n",
       "      <td>Smartphone</td>\n",
       "      <td>5.5 inches</td>\n",
       "      <td>Android</td>\n",
       "      <td>...</td>\n",
       "      <td>Amazon.in</td>\n",
       "      <td>Amazon.in, Myntra.com, Snapdeal.com</td>\n",
       "      <td>Amazon.in</td>\n",
       "      <td>Amazon.in, Snapdeal.com</td>\n",
       "      <td>Amazon.in</td>\n",
       "      <td>Amazon.in</td>\n",
       "      <td>Amazon.in</td>\n",
       "      <td>Myntra.com, Snapdeal.com</td>\n",
       "      <td>Myntra.com, Snapdeal.com</td>\n",
       "      <td>Amazon.in</td>\n",
       "    </tr>\n",
       "    <tr>\n",
       "      <th>268</th>\n",
       "      <td>Female</td>\n",
       "      <td>41-50 yaers</td>\n",
       "      <td>Ghaziabad</td>\n",
       "      <td>201009</td>\n",
       "      <td>2-3 years</td>\n",
       "      <td>31-40 times</td>\n",
       "      <td>Mobile Internet</td>\n",
       "      <td>Smartphone</td>\n",
       "      <td>5.5 inches</td>\n",
       "      <td>Android</td>\n",
       "      <td>...</td>\n",
       "      <td>Amazon.in</td>\n",
       "      <td>Amazon.in</td>\n",
       "      <td>Amazon.in</td>\n",
       "      <td>Amazon.in</td>\n",
       "      <td>Amazon.in</td>\n",
       "      <td>Amazon.in</td>\n",
       "      <td>Amazon.in</td>\n",
       "      <td>Amazon.in</td>\n",
       "      <td>Amazon.in</td>\n",
       "      <td>Amazon.in</td>\n",
       "    </tr>\n",
       "  </tbody>\n",
       "</table>\n",
       "<p>269 rows × 71 columns</p>\n",
       "</div>"
      ],
      "text/plain": [
       "    1Gender of respondent 2 How old are you?   \\\n",
       "0                    Male         31-40 years   \n",
       "1                  Female         21-30 years   \n",
       "2                  Female         21-30 years   \n",
       "3                    Male         21-30 years   \n",
       "4                  Female         21-30 years   \n",
       "..                    ...                 ...   \n",
       "264                Female         21-30 years   \n",
       "265                Female         31-40 years   \n",
       "266                Female         41-50 yaers   \n",
       "267                Female  Less than 20 years   \n",
       "268                Female         41-50 yaers   \n",
       "\n",
       "    3 Which city do you shop online from?  \\\n",
       "0                                   Delhi   \n",
       "1                                   Delhi   \n",
       "2                           Greater Noida   \n",
       "3                                 Karnal    \n",
       "4                              Bangalore    \n",
       "..                                    ...   \n",
       "264                                 Solan   \n",
       "265                             Ghaziabad   \n",
       "266                            Bangalore    \n",
       "267                                 Solan   \n",
       "268                             Ghaziabad   \n",
       "\n",
       "     4 What is the Pin Code of where you shop online from?  \\\n",
       "0                                               110009       \n",
       "1                                               110030       \n",
       "2                                               201308       \n",
       "3                                               132001       \n",
       "4                                               530068       \n",
       "..                                                 ...       \n",
       "264                                             173212       \n",
       "265                                             201008       \n",
       "266                                             560010       \n",
       "267                                             173229       \n",
       "268                                             201009       \n",
       "\n",
       "    5 Since How Long You are Shopping Online ?  \\\n",
       "0                                Above 4 years   \n",
       "1                                Above 4 years   \n",
       "2                                    3-4 years   \n",
       "3                                    3-4 years   \n",
       "4                                    2-3 years   \n",
       "..                                         ...   \n",
       "264                                  1-2 years   \n",
       "265                                  1-2 years   \n",
       "266                                  2-3 years   \n",
       "267                                  2-3 years   \n",
       "268                                  2-3 years   \n",
       "\n",
       "    6 How many times you have made an online purchase in the past 1 year?  \\\n",
       "0                                          31-40 times                      \n",
       "1                                   41 times and above                      \n",
       "2                                   41 times and above                      \n",
       "3                                   Less than 10 times                      \n",
       "4                                          11-20 times                      \n",
       "..                                                 ...                      \n",
       "264                                 Less than 10 times                      \n",
       "265                                        31-40 times                      \n",
       "266                                 Less than 10 times                      \n",
       "267                                 Less than 10 times                      \n",
       "268                                        31-40 times                      \n",
       "\n",
       "    7 How do you access the internet while shopping on-line?  \\\n",
       "0                                              Dial-up         \n",
       "1                                                Wi-Fi         \n",
       "2                                      Mobile Internet         \n",
       "3                                      Mobile Internet         \n",
       "4                                                Wi-Fi         \n",
       "..                                                 ...         \n",
       "264                                    Mobile Internet         \n",
       "265                                    Mobile Internet         \n",
       "266                                    Mobile internet         \n",
       "267                                              Wi-Fi         \n",
       "268                                    Mobile Internet         \n",
       "\n",
       "    8 Which device do you use to access the online shopping?  \\\n",
       "0                                              Desktop         \n",
       "1                                           Smartphone         \n",
       "2                                           Smartphone         \n",
       "3                                           Smartphone         \n",
       "4                                           Smartphone         \n",
       "..                                                 ...         \n",
       "264                                         Smartphone         \n",
       "265                                         Smartphone         \n",
       "266                                             Laptop         \n",
       "267                                         Smartphone         \n",
       "268                                         Smartphone         \n",
       "\n",
       "    9 What is the screen size of your mobile device?\\t\\t\\t\\t\\t\\t                                          \\\n",
       "0                                               Others                                                     \n",
       "1                                           4.7 inches                                                     \n",
       "2                                           5.5 inches                                                     \n",
       "3                                           5.5 inches                                                     \n",
       "4                                           4.7 inches                                                     \n",
       "..                                                 ...                                                     \n",
       "264                                         5.5 inches                                                     \n",
       "265                                             Others                                                     \n",
       "266                                             Others                                                     \n",
       "267                                         5.5 inches                                                     \n",
       "268                                         5.5 inches                                                     \n",
       "\n",
       "    10 What is the operating system (OS) of your device?\\t\\t\\t\\t                                            \\\n",
       "0                                Window/windows Mobile                                                       \n",
       "1                                              IOS/Mac                                                       \n",
       "2                                              Android                                                       \n",
       "3                                              IOS/Mac                                                       \n",
       "4                                              IOS/Mac                                                       \n",
       "..                                                 ...                                                       \n",
       "264                                            Android                                                       \n",
       "265                                            Android                                                       \n",
       "266                              Window/windows Mobile                                                       \n",
       "267                                            Android                                                       \n",
       "268                                            Android                                                       \n",
       "\n",
       "     ... Longer time to get logged in (promotion, sales period)  \\\n",
       "0    ...                                          Amazon.in       \n",
       "1    ...                            Amazon.in, Flipkart.com       \n",
       "2    ...                                         Myntra.com       \n",
       "3    ...                                       Snapdeal.com       \n",
       "4    ...                            Flipkart.com, Paytm.com       \n",
       "..   ...                                                ...       \n",
       "264  ...                                          Amazon.in       \n",
       "265  ...                                       Flipkart.com       \n",
       "266  ...                                          Amazon.in       \n",
       "267  ...                                          Amazon.in       \n",
       "268  ...                                          Amazon.in       \n",
       "\n",
       "    Longer time in displaying graphics and photos (promotion, sales period)  \\\n",
       "0                                            Amazon.in                        \n",
       "1                                           Myntra.com                        \n",
       "2                                           Myntra.com                        \n",
       "3                             Myntra.com, Snapdeal.com                        \n",
       "4                                            Paytm.com                        \n",
       "..                                                 ...                        \n",
       "264                                          Amazon.in                        \n",
       "265                                       Flipkart.com                        \n",
       "266                                       Snapdeal.com                        \n",
       "267                Amazon.in, Myntra.com, Snapdeal.com                        \n",
       "268                                          Amazon.in                        \n",
       "\n",
       "    Late declaration of price (promotion, sales period)  \\\n",
       "0                                         Flipkart.com    \n",
       "1                                         snapdeal.com    \n",
       "2                                           Myntra.com    \n",
       "3                                           Myntra.com    \n",
       "4                                            Paytm.com    \n",
       "..                                                 ...    \n",
       "264                                          Amazon.in    \n",
       "265                                       Flipkart.com    \n",
       "266                                          Amazon.in    \n",
       "267                                          Amazon.in    \n",
       "268                                          Amazon.in    \n",
       "\n",
       "    Longer page loading time (promotion, sales period)  \\\n",
       "0                                         Flipkart.com   \n",
       "1                                         Snapdeal.com   \n",
       "2                                           Myntra.com   \n",
       "3                                            Paytm.com   \n",
       "4                                            Paytm.com   \n",
       "..                                                 ...   \n",
       "264                                          Amazon.in   \n",
       "265                                       Flipkart.com   \n",
       "266                                       Snapdeal.com   \n",
       "267                            Amazon.in, Snapdeal.com   \n",
       "268                                          Amazon.in   \n",
       "\n",
       "    Limited mode of payment on most products (promotion, sales period)  \\\n",
       "0                                            Amazon.in                   \n",
       "1                                         Snapdeal.com                   \n",
       "2                                            Amazon.in                   \n",
       "3                                            Paytm.com                   \n",
       "4                                         Snapdeal.com                   \n",
       "..                                                 ...                   \n",
       "264                                          Amazon.in                   \n",
       "265                                       Flipkart.com                   \n",
       "266                                       Snapdeal.com                   \n",
       "267                                          Amazon.in                   \n",
       "268                                          Amazon.in                   \n",
       "\n",
       "    Longer delivery period Change in website/Application design  \\\n",
       "0                Paytm.com                         Flipkart.com   \n",
       "1             Snapdeal.com                            Amazon.in   \n",
       "2                Paytm.com                            Paytm.com   \n",
       "3                Paytm.com              Amazon.in, Flipkart.com   \n",
       "4                Paytm.com                            Amazon.in   \n",
       "..                     ...                                  ...   \n",
       "264              Amazon.in                            Amazon.in   \n",
       "265           Flipkart.com                         Flipkart.com   \n",
       "266           Snapdeal.com                         Snapdeal.com   \n",
       "267              Amazon.in                            Amazon.in   \n",
       "268              Amazon.in                            Amazon.in   \n",
       "\n",
       "    Frequent disruption when moving from one page to another  \\\n",
       "0                                            Amazon.in         \n",
       "1                                           Myntra.com         \n",
       "2                                            Paytm.com         \n",
       "3                              Amazon.in, Flipkart.com         \n",
       "4                                         Snapdeal.com         \n",
       "..                                                 ...         \n",
       "264                                          Amazon.in         \n",
       "265                                       Flipkart.com         \n",
       "266                                       Snapdeal.com         \n",
       "267                           Myntra.com, Snapdeal.com         \n",
       "268                                          Amazon.in         \n",
       "\n",
       "      Website is as efficient as before  \\\n",
       "0                             Amazon.in   \n",
       "1               Amazon.in, Flipkart.com   \n",
       "2                             Amazon.in   \n",
       "3    Amazon.in, Flipkart.com, Paytm.com   \n",
       "4                             Paytm.com   \n",
       "..                                  ...   \n",
       "264                           Amazon.in   \n",
       "265                        Flipkart.com   \n",
       "266                           Amazon.in   \n",
       "267            Myntra.com, Snapdeal.com   \n",
       "268                           Amazon.in   \n",
       "\n",
       "    Which of the Indian online retailer would you recommend to a friend?  \n",
       "0                                         Flipkart.com                    \n",
       "1                                Amazon.in, Myntra.com                    \n",
       "2                     Amazon.in, Paytm.com, Myntra.com                    \n",
       "3                              Amazon.in, Flipkart.com                    \n",
       "4                                Amazon.in, Myntra.com                    \n",
       "..                                                 ...                    \n",
       "264                                          Amazon.in                    \n",
       "265                                       Flipkart.com                    \n",
       "266                                          Amazon.in                    \n",
       "267                                          Amazon.in                    \n",
       "268                                          Amazon.in                    \n",
       "\n",
       "[269 rows x 71 columns]"
      ]
     },
     "execution_count": 25,
     "metadata": {},
     "output_type": "execute_result"
    }
   ],
   "source": [
    "# seeing the dataset\n",
    "df"
   ]
  },
  {
   "cell_type": "code",
   "execution_count": 20,
   "id": "e16e323d",
   "metadata": {},
   "outputs": [
    {
     "data": {
      "text/plain": [
       "1Gender of respondent                                                   object\n",
       "2 How old are you?                                                      object\n",
       "3 Which city do you shop online from?                                   object\n",
       "4 What is the Pin Code of where you shop online from?                    int64\n",
       "5 Since How Long You are Shopping Online ?                              object\n",
       "                                                                         ...  \n",
       "Longer delivery period                                                  object\n",
       "Change in website/Application design                                    object\n",
       "Frequent disruption when moving from one page to another                object\n",
       "Website is as efficient as before                                       object\n",
       "Which of the Indian online retailer would you recommend to a friend?    object\n",
       "Length: 71, dtype: object"
      ]
     },
     "execution_count": 20,
     "metadata": {},
     "output_type": "execute_result"
    }
   ],
   "source": [
    "# seeing the data types present in columns\n",
    "df.dtypes"
   ]
  },
  {
   "cell_type": "code",
   "execution_count": 28,
   "id": "a988cc4f",
   "metadata": {},
   "outputs": [
    {
     "data": {
      "text/plain": [
       "1Gender of respondent                                                   0\n",
       "2 How old are you?                                                      0\n",
       "3 Which city do you shop online from?                                   0\n",
       "4 What is the Pin Code of where you shop online from?                   0\n",
       "5 Since How Long You are Shopping Online ?                              0\n",
       "                                                                       ..\n",
       "Longer delivery period                                                  0\n",
       "Change in website/Application design                                    0\n",
       "Frequent disruption when moving from one page to another                0\n",
       "Website is as efficient as before                                       0\n",
       "Which of the Indian online retailer would you recommend to a friend?    0\n",
       "Length: 71, dtype: int64"
      ]
     },
     "execution_count": 28,
     "metadata": {},
     "output_type": "execute_result"
    }
   ],
   "source": [
    "# checking if any null values present in the dataframe\n",
    "df.isnull().sum()"
   ]
  },
  {
   "cell_type": "code",
   "execution_count": 27,
   "id": "fe71d89c",
   "metadata": {},
   "outputs": [
    {
     "name": "stdout",
     "output_type": "stream",
     "text": [
      "Index(['1Gender of respondent', '2 How old are you? ',\n",
      "       '3 Which city do you shop online from?',\n",
      "       '4 What is the Pin Code of where you shop online from?',\n",
      "       '5 Since How Long You are Shopping Online ?',\n",
      "       '6 How many times you have made an online purchase in the past 1 year?',\n",
      "       '7 How do you access the internet while shopping on-line?',\n",
      "       '8 Which device do you use to access the online shopping?',\n",
      "       '9 What is the screen size of your mobile device?\\t\\t\\t\\t\\t\\t                                        ',\n",
      "       '10 What is the operating system (OS) of your device?\\t\\t\\t\\t                                          ',\n",
      "       '11 What browser do you run on your device to access the website?\\t\\t\\t                                                          ',\n",
      "       '12 Which channel did you follow to arrive at your favorite online store for the first time?                                                                   ',\n",
      "       '13 After first visit, how do you reach the online retail store?\\t\\t\\t\\t                                                   ',\n",
      "       '14 How much time do you explore the e- retail store before making a purchase decision?                                                                   ',\n",
      "       '15 What is your preferred payment Option?\\t\\t\\t\\t\\t                                                                                                                               ',\n",
      "       '16 How frequently do you abandon (selecting an items and leaving without making payment) your shopping cart?\\t\\t\\t\\t\\t\\t\\t                                                   ',\n",
      "       '17 Why did you abandon the “Bag”, “Shopping Cart”?\\t\\t\\t\\t\\t                                                                                                                                                       ',\n",
      "       '18 The content on the website must be easy to read and understand',\n",
      "       '19 Information on similar product to the one highlighted  is important for product comparison',\n",
      "       '20 Complete information on listed seller and product being offered is important for purchase decision.',\n",
      "       '21 All relevant information on listed products must be stated clearly',\n",
      "       '22 Ease of navigation in website', '23 Loading and processing speed',\n",
      "       '24 User friendly Interface of the website',\n",
      "       '25 Convenient Payment methods',\n",
      "       '26 Trust that the online retail store will fulfill its part of the transaction at the stipulated time',\n",
      "       '27 Empathy (readiness to assist with queries) towards the customers',\n",
      "       '28 Being able to guarantee the privacy of the customer',\n",
      "       '29 Responsiveness, availability of several communication channels (email, online rep, twitter, phone etc.)',\n",
      "       '30 Online shopping gives monetary benefit and discounts',\n",
      "       '31 Enjoyment is derived from shopping online',\n",
      "       '32 Shopping online is convenient and flexible',\n",
      "       '33 Return and replacement policy of the e-tailer is important for purchase decision',\n",
      "       '34 Gaining access to loyalty programs is a benefit of shopping online',\n",
      "       '35 Displaying quality Information on the website improves satisfaction of customers',\n",
      "       '36 User derive satisfaction while shopping on a good quality website or application',\n",
      "       '37 Net Benefit derived from shopping online can lead to users satisfaction',\n",
      "       '38 User satisfaction cannot exist without trust',\n",
      "       '39 Offering a wide variety of listed product in several category',\n",
      "       '40 Provision of complete and relevant product information',\n",
      "       '41 Monetary savings',\n",
      "       '42 The Convenience of patronizing the online retailer',\n",
      "       '43 Shopping on the website gives you the sense of adventure',\n",
      "       '44 Shopping on your preferred e-tailer enhances your social status',\n",
      "       '45 You feel gratification shopping on your favorite e-tailer',\n",
      "       '46 Shopping on the website helps you fulfill certain roles',\n",
      "       '47 Getting value for money spent',\n",
      "       'From the following, tick any (or all) of the online retailers you have shopped from;                                                                           ',\n",
      "       'Easy to use website or application',\n",
      "       'Visual appealing web-page layout', 'Wild variety of product on offer',\n",
      "       'Complete, relevant description information of products',\n",
      "       'Fast loading website speed of website and application',\n",
      "       'Reliability of the website or application',\n",
      "       'Quickness to complete purchase',\n",
      "       'Availability of several payment options', 'Speedy order delivery ',\n",
      "       'Privacy of customers’ information',\n",
      "       'Security of customer financial information',\n",
      "       'Perceived Trustworthiness',\n",
      "       'Presence of online assistance through multi-channel',\n",
      "       'Longer time to get logged in (promotion, sales period)',\n",
      "       'Longer time in displaying graphics and photos (promotion, sales period)',\n",
      "       'Late declaration of price (promotion, sales period)',\n",
      "       'Longer page loading time (promotion, sales period)',\n",
      "       'Limited mode of payment on most products (promotion, sales period)',\n",
      "       'Longer delivery period', 'Change in website/Application design',\n",
      "       'Frequent disruption when moving from one page to another',\n",
      "       'Website is as efficient as before',\n",
      "       'Which of the Indian online retailer would you recommend to a friend?'],\n",
      "      dtype='object')\n"
     ]
    }
   ],
   "source": [
    "# checking all the columns\n",
    "print(df.columns)"
   ]
  },
  {
   "cell_type": "code",
   "execution_count": 35,
   "id": "c0bac074",
   "metadata": {},
   "outputs": [
    {
     "data": {
      "text/plain": [
       "71"
      ]
     },
     "execution_count": 35,
     "metadata": {},
     "output_type": "execute_result"
    }
   ],
   "source": [
    "# seeing total number of columns\n",
    "df.columns.size"
   ]
  },
  {
   "cell_type": "code",
   "execution_count": 29,
   "id": "5bb61b39",
   "metadata": {},
   "outputs": [],
   "source": [
    "# from all the columns we can see that there are lot of columns which we don't need to do the analysis so we will drop them"
   ]
  },
  {
   "cell_type": "code",
   "execution_count": 144,
   "id": "047a934f",
   "metadata": {},
   "outputs": [],
   "source": [
    "# dropping the undesired columns\n",
    "new = df.drop(columns = ['4 What is the Pin Code of where you shop online from?','5 Since How Long You are Shopping Online ?','7 How do you access the internet while shopping on-line?','9 What is the screen size of your mobile device?\\t\\t\\t\\t\\t\\t                                        ','10 What is the operating system (OS) of your device?\\t\\t\\t\\t                                          ','14 How much time do you explore the e- retail store before making a purchase decision?                                                                   ','16 How frequently do you abandon (selecting an items and leaving without making payment) your shopping cart?\\t\\t\\t\\t\\t\\t\\t                                                   ','From the following, tick any (or all) of the online retailers you have shopped from;                                                                           ','Easy to use website or application','Visual appealing web-page layout','Wild variety of product on offer','Complete, relevant description information of products','Fast loading website speed of website and application','Reliability of the website or application','Quickness to complete purchase','Availability of several payment options','Speedy order delivery ','Privacy of customers’ information','Security of customer financial information','Perceived Trustworthiness','Presence of online assistance through multi-channel','Longer time to get logged in (promotion, sales period)','Longer time in displaying graphics and photos (promotion, sales period)','Late declaration of price (promotion, sales period)','Longer page loading time (promotion, sales period)','Limited mode of payment on most products (promotion, sales period)','Longer delivery period','Change in website/Application design','Frequent disruption when moving from one page to another','Website is as efficient as before','Which of the Indian online retailer would you recommend to a friend?'], axis =1)"
   ]
  },
  {
   "cell_type": "code",
   "execution_count": 145,
   "id": "158862c5",
   "metadata": {},
   "outputs": [
    {
     "data": {
      "text/plain": [
       "Index(['1Gender of respondent', '2 How old are you? ',\n",
       "       '3 Which city do you shop online from?',\n",
       "       '6 How many times you have made an online purchase in the past 1 year?',\n",
       "       '8 Which device do you use to access the online shopping?',\n",
       "       '11 What browser do you run on your device to access the website?\\t\\t\\t                                                          ',\n",
       "       '12 Which channel did you follow to arrive at your favorite online store for the first time?                                                                   ',\n",
       "       '13 After first visit, how do you reach the online retail store?\\t\\t\\t\\t                                                   ',\n",
       "       '15 What is your preferred payment Option?\\t\\t\\t\\t\\t                                                                                                                               ',\n",
       "       '17 Why did you abandon the “Bag”, “Shopping Cart”?\\t\\t\\t\\t\\t                                                                                                                                                       ',\n",
       "       '18 The content on the website must be easy to read and understand',\n",
       "       '19 Information on similar product to the one highlighted  is important for product comparison',\n",
       "       '20 Complete information on listed seller and product being offered is important for purchase decision.',\n",
       "       '21 All relevant information on listed products must be stated clearly',\n",
       "       '22 Ease of navigation in website', '23 Loading and processing speed',\n",
       "       '24 User friendly Interface of the website',\n",
       "       '25 Convenient Payment methods',\n",
       "       '26 Trust that the online retail store will fulfill its part of the transaction at the stipulated time',\n",
       "       '27 Empathy (readiness to assist with queries) towards the customers',\n",
       "       '28 Being able to guarantee the privacy of the customer',\n",
       "       '29 Responsiveness, availability of several communication channels (email, online rep, twitter, phone etc.)',\n",
       "       '30 Online shopping gives monetary benefit and discounts',\n",
       "       '31 Enjoyment is derived from shopping online',\n",
       "       '32 Shopping online is convenient and flexible',\n",
       "       '33 Return and replacement policy of the e-tailer is important for purchase decision',\n",
       "       '34 Gaining access to loyalty programs is a benefit of shopping online',\n",
       "       '35 Displaying quality Information on the website improves satisfaction of customers',\n",
       "       '36 User derive satisfaction while shopping on a good quality website or application',\n",
       "       '37 Net Benefit derived from shopping online can lead to users satisfaction',\n",
       "       '38 User satisfaction cannot exist without trust',\n",
       "       '39 Offering a wide variety of listed product in several category',\n",
       "       '40 Provision of complete and relevant product information',\n",
       "       '41 Monetary savings',\n",
       "       '42 The Convenience of patronizing the online retailer',\n",
       "       '43 Shopping on the website gives you the sense of adventure',\n",
       "       '44 Shopping on your preferred e-tailer enhances your social status',\n",
       "       '45 You feel gratification shopping on your favorite e-tailer',\n",
       "       '46 Shopping on the website helps you fulfill certain roles',\n",
       "       '47 Getting value for money spent'],\n",
       "      dtype='object')"
      ]
     },
     "execution_count": 145,
     "metadata": {},
     "output_type": "execute_result"
    }
   ],
   "source": [
    "new.columns"
   ]
  },
  {
   "cell_type": "code",
   "execution_count": 146,
   "id": "c9e7fea0",
   "metadata": {},
   "outputs": [
    {
     "data": {
      "text/plain": [
       "40"
      ]
     },
     "execution_count": 146,
     "metadata": {},
     "output_type": "execute_result"
    }
   ],
   "source": [
    "new.columns.size"
   ]
  },
  {
   "cell_type": "code",
   "execution_count": 147,
   "id": "fb30544d",
   "metadata": {},
   "outputs": [],
   "source": [
    "# here we can see that after dropping the undesired columns the number of column decreased"
   ]
  },
  {
   "cell_type": "code",
   "execution_count": 148,
   "id": "6aef8644",
   "metadata": {},
   "outputs": [],
   "source": [
    "# doing data analysis of each column"
   ]
  },
  {
   "cell_type": "code",
   "execution_count": 149,
   "id": "503fb588",
   "metadata": {},
   "outputs": [],
   "source": [
    "# importing more required library\n",
    "import warnings\n",
    "warnings.filterwarnings('ignore')\n",
    "import seaborn as sns"
   ]
  },
  {
   "cell_type": "code",
   "execution_count": 150,
   "id": "34e8c97a",
   "metadata": {},
   "outputs": [
    {
     "data": {
      "text/plain": [
       "Female    181\n",
       "Male       88\n",
       "Name: 1Gender of respondent, dtype: int64"
      ]
     },
     "execution_count": 150,
     "metadata": {},
     "output_type": "execute_result"
    }
   ],
   "source": [
    "# seeing the number of different genders who do online shopping\n",
    "new['1Gender of respondent'].value_counts()"
   ]
  },
  {
   "cell_type": "code",
   "execution_count": 151,
   "id": "30e5238c",
   "metadata": {},
   "outputs": [
    {
     "data": {
      "text/plain": [
       "<AxesSubplot:xlabel='1Gender of respondent', ylabel='count'>"
      ]
     },
     "execution_count": 151,
     "metadata": {},
     "output_type": "execute_result"
    },
    {
     "data": {
      "image/png": "[encoded data removed]",
      "text/plain": [
       "<Figure size 432x288 with 1 Axes>"
      ]
     },
     "metadata": {
      "needs_background": "light"
     },
     "output_type": "display_data"
    }
   ],
   "source": [
    "# making countplot for gender column\n",
    "sns.countplot('1Gender of respondent', data = new)"
   ]
  },
  {
   "cell_type": "code",
   "execution_count": 152,
   "id": "d6f66673",
   "metadata": {},
   "outputs": [],
   "source": [
    "# from here we can see females do more online shopping than male."
   ]
  },
  {
   "cell_type": "code",
   "execution_count": 154,
   "id": "6c376934",
   "metadata": {},
   "outputs": [
    {
     "data": {
      "text/plain": [
       "31-40 years           81\n",
       "21-30 years           79\n",
       "41-50 yaers           70\n",
       "Less than 20 years    20\n",
       "51 years and above    19\n",
       "Name: 2 How old are you? , dtype: int64"
      ]
     },
     "execution_count": 154,
     "metadata": {},
     "output_type": "execute_result"
    }
   ],
   "source": [
    "# seeing the age column\n",
    "new['2 How old are you? '].value_counts()"
   ]
  },
  {
   "cell_type": "code",
   "execution_count": 155,
   "id": "0d4bc74f",
   "metadata": {},
   "outputs": [
    {
     "data": {
      "text/plain": [
       "<AxesSubplot:xlabel='2 How old are you? ', ylabel='count'>"
      ]
     },
     "execution_count": 155,
     "metadata": {},
     "output_type": "execute_result"
    },
    {
     "data": {
      "image/png": "[encoded data removed]",
      "text/plain": [
       "<Figure size 432x288 with 1 Axes>"
      ]
     },
     "metadata": {
      "needs_background": "light"
     },
     "output_type": "display_data"
    }
   ],
   "source": [
    "# making countplot of age column\n",
    "sns.countplot('2 How old are you? ', data = new)"
   ]
  },
  {
   "cell_type": "code",
   "execution_count": 156,
   "id": "94ac2837",
   "metadata": {},
   "outputs": [],
   "source": [
    "# from here we can see that the people between 31-40 age group do most shopping from online."
   ]
  },
  {
   "cell_type": "code",
   "execution_count": 157,
   "id": "08e889dc",
   "metadata": {},
   "outputs": [
    {
     "data": {
      "text/plain": [
       "Delhi            58\n",
       "Greater Noida    43\n",
       "Noida            40\n",
       "Bangalore        37\n",
       "Karnal           27\n",
       "Solan            18\n",
       "Ghaziabad        18\n",
       "Gurgaon          12\n",
       "Merrut            9\n",
       "Moradabad         5\n",
       "Bulandshahr       2\n",
       "Name: 3 Which city do you shop online from?, dtype: int64"
      ]
     },
     "execution_count": 157,
     "metadata": {},
     "output_type": "execute_result"
    }
   ],
   "source": [
    "# seeing the city column\n",
    "new['3 Which city do you shop online from?'].value_counts()"
   ]
  },
  {
   "cell_type": "code",
   "execution_count": 162,
   "id": "dea602a7",
   "metadata": {},
   "outputs": [
    {
     "data": {
      "text/plain": [
       "<AxesSubplot:xlabel='3 Which city do you shop online from?', ylabel='count'>"
      ]
     },
     "execution_count": 162,
     "metadata": {},
     "output_type": "execute_result"
    },
    {
     "data": {
      "image/png": "[encoded data removed]",
      "text/plain": [
       "<Figure size 432x288 with 1 Axes>"
      ]
     },
     "metadata": {
      "needs_background": "light"
     },
     "output_type": "display_data"
    }
   ],
   "source": [
    "# making countplot of city column\n",
    "sns.countplot('3 Which city do you shop online from?', data = new)"
   ]
  },
  {
   "cell_type": "code",
   "execution_count": 163,
   "id": "0ce6d11a",
   "metadata": {},
   "outputs": [],
   "source": [
    "# from here we can see that Delhi city people do most of their shopping from online"
   ]
  },
  {
   "cell_type": "code",
   "execution_count": 164,
   "id": "54752923",
   "metadata": {},
   "outputs": [
    {
     "data": {
      "text/plain": [
       "Less than 10 times    114\n",
       "31-40 times            63\n",
       "41 times and above     47\n",
       "11-20 times            29\n",
       "21-30 times            10\n",
       "42 times and above      6\n",
       "Name: 6 How many times you have made an online purchase in the past 1 year?, dtype: int64"
      ]
     },
     "execution_count": 164,
     "metadata": {},
     "output_type": "execute_result"
    }
   ],
   "source": [
    "# seeing number of times shopping done by people in last 1 year\n",
    "new['6 How many times you have made an online purchase in the past 1 year?'].value_counts()"
   ]
  },
  {
   "cell_type": "code",
   "execution_count": 165,
   "id": "4875ed7e",
   "metadata": {},
   "outputs": [
    {
     "data": {
      "text/plain": [
       "<AxesSubplot:xlabel='6 How many times you have made an online purchase in the past 1 year?', ylabel='count'>"
      ]
     },
     "execution_count": 165,
     "metadata": {},
     "output_type": "execute_result"
    },
    {
     "data": {
      "image/png": "[encoded data removed]",
      "text/plain": [
       "<Figure size 432x288 with 1 Axes>"
      ]
     },
     "metadata": {
      "needs_background": "light"
     },
     "output_type": "display_data"
    }
   ],
   "source": [
    "# making countplot\n",
    "sns.countplot('6 How many times you have made an online purchase in the past 1 year?', data = new)"
   ]
  },
  {
   "cell_type": "code",
   "execution_count": 166,
   "id": "c20501c7",
   "metadata": {},
   "outputs": [
    {
     "data": {
      "text/plain": [
       "Smartphone    141\n",
       "Laptop         86\n",
       "Desktop        30\n",
       "Tablet         12\n",
       "Name: 8 Which device do you use to access the online shopping?, dtype: int64"
      ]
     },
     "execution_count": 166,
     "metadata": {},
     "output_type": "execute_result"
    }
   ],
   "source": [
    "# seeing the device which people use to do online shopping\n",
    "new['8 Which device do you use to access the online shopping?'].value_counts()"
   ]
  },
  {
   "cell_type": "code",
   "execution_count": 167,
   "id": "9d66becb",
   "metadata": {},
   "outputs": [
    {
     "data": {
      "text/plain": [
       "<AxesSubplot:xlabel='8 Which device do you use to access the online shopping?', ylabel='count'>"
      ]
     },
     "execution_count": 167,
     "metadata": {},
     "output_type": "execute_result"
    },
    {
     "data": {
      "image/png": "[encoded data removed]",
      "text/plain": [
       "<Figure size 432x288 with 1 Axes>"
      ]
     },
     "metadata": {
      "needs_background": "light"
     },
     "output_type": "display_data"
    }
   ],
   "source": [
    "# making countplot\n",
    "sns.countplot('8 Which device do you use to access the online shopping?', data = new)"
   ]
  },
  {
   "cell_type": "code",
   "execution_count": 168,
   "id": "0670e280",
   "metadata": {},
   "outputs": [],
   "source": [
    "# from here we can see most of the people use their smartphone to do online shopping"
   ]
  },
  {
   "cell_type": "code",
   "execution_count": 169,
   "id": "2e14d493",
   "metadata": {},
   "outputs": [
    {
     "data": {
      "text/plain": [
       "Google chrome      216\n",
       "Safari              40\n",
       "Opera                8\n",
       "Mozilla Firefox      5\n",
       "Name: 11 What browser do you run on your device to access the website?\\t\\t\\t                                                          , dtype: int64"
      ]
     },
     "execution_count": 169,
     "metadata": {},
     "output_type": "execute_result"
    }
   ],
   "source": [
    "# seeeing the browser used by people to do online shopping\n",
    "new['11 What browser do you run on your device to access the website?\\t\\t\\t                                                          '].value_counts()"
   ]
  },
  {
   "cell_type": "code",
   "execution_count": 170,
   "id": "82bd4e09",
   "metadata": {},
   "outputs": [
    {
     "data": {
      "text/plain": [
       "<AxesSubplot:xlabel='11 What browser do you run on your device to access the website?\\t\\t\\t                                                          ', ylabel='count'>"
      ]
     },
     "execution_count": 170,
     "metadata": {},
     "output_type": "execute_result"
    },
    {
     "data": {
      "image/png": "[encoded data removed]",
      "text/plain": [
       "<Figure size 432x288 with 1 Axes>"
      ]
     },
     "metadata": {
      "needs_background": "light"
     },
     "output_type": "display_data"
    }
   ],
   "source": [
    "# making countplot\n",
    "sns.countplot('11 What browser do you run on your device to access the website?\\t\\t\\t                                                          ', data = new)"
   ]
  },
  {
   "cell_type": "code",
   "execution_count": 171,
   "id": "16717ad6",
   "metadata": {},
   "outputs": [],
   "source": [
    "# from here we can see that most of the people use google chrome to do their online shopping "
   ]
  },
  {
   "cell_type": "code",
   "execution_count": 172,
   "id": "3db35b64",
   "metadata": {},
   "outputs": [
    {
     "data": {
      "text/plain": [
       "Search Engine        230\n",
       "Content Marketing     20\n",
       "Display Adverts       19\n",
       "Name: 12 Which channel did you follow to arrive at your favorite online store for the first time?                                                                   , dtype: int64"
      ]
     },
     "execution_count": 172,
     "metadata": {},
     "output_type": "execute_result"
    }
   ],
   "source": [
    "# seeing how people reach to the store on first time\n",
    "new['12 Which channel did you follow to arrive at your favorite online store for the first time?                                                                   '].value_counts()"
   ]
  },
  {
   "cell_type": "code",
   "execution_count": 173,
   "id": "d62a68c2",
   "metadata": {},
   "outputs": [
    {
     "data": {
      "text/plain": [
       "<AxesSubplot:xlabel='12 Which channel did you follow to arrive at your favorite online store for the first time?                                                                   ', ylabel='count'>"
      ]
     },
     "execution_count": 173,
     "metadata": {},
     "output_type": "execute_result"
    },
    {
     "data": {
      "image/png": "[encoded data removed]",
      "text/plain": [
       "<Figure size 432x288 with 1 Axes>"
      ]
     },
     "metadata": {
      "needs_background": "light"
     },
     "output_type": "display_data"
    }
   ],
   "source": [
    "# making countplot\n",
    "sns.countplot('12 Which channel did you follow to arrive at your favorite online store for the first time?                                                                   ', data = new)"
   ]
  },
  {
   "cell_type": "code",
   "execution_count": 174,
   "id": "8d238c6d",
   "metadata": {},
   "outputs": [],
   "source": [
    "# from here we can see that most of the people reach from search engine on first time"
   ]
  },
  {
   "cell_type": "code",
   "execution_count": 175,
   "id": "a1f40422",
   "metadata": {},
   "outputs": [
    {
     "data": {
      "text/plain": [
       "Search Engine      87\n",
       "Via application    86\n",
       "Direct URL         70\n",
       "E-mail             18\n",
       "Social Media        8\n",
       "Name: 13 After first visit, how do you reach the online retail store?\\t\\t\\t\\t                                                   , dtype: int64"
      ]
     },
     "execution_count": 175,
     "metadata": {},
     "output_type": "execute_result"
    }
   ],
   "source": [
    "# seeing how people often reach to their online store\n",
    "new['13 After first visit, how do you reach the online retail store?\\t\\t\\t\\t                                                   '].value_counts()"
   ]
  },
  {
   "cell_type": "code",
   "execution_count": 176,
   "id": "26e3b5fa",
   "metadata": {},
   "outputs": [
    {
     "data": {
      "text/plain": [
       "<AxesSubplot:xlabel='13 After first visit, how do you reach the online retail store?\\t\\t\\t\\t                                                   ', ylabel='count'>"
      ]
     },
     "execution_count": 176,
     "metadata": {},
     "output_type": "execute_result"
    },
    {
     "data": {
      "image/png": "[encoded data removed]",
      "text/plain": [
       "<Figure size 432x288 with 1 Axes>"
      ]
     },
     "metadata": {
      "needs_background": "light"
     },
     "output_type": "display_data"
    }
   ],
   "source": [
    "# making countplot\n",
    "sns.countplot('13 After first visit, how do you reach the online retail store?\\t\\t\\t\\t                                                   ', data = new)"
   ]
  },
  {
   "cell_type": "code",
   "execution_count": 177,
   "id": "6deb261c",
   "metadata": {},
   "outputs": [],
   "source": [
    "# from here we can see that most of the people reach their online store from search engine or via application or url"
   ]
  },
  {
   "cell_type": "code",
   "execution_count": 178,
   "id": "f7120d23",
   "metadata": {},
   "outputs": [
    {
     "data": {
      "text/plain": [
       "Credit/Debit cards                    148\n",
       "Cash on delivery (CoD)                 76\n",
       "E-wallets (Paytm, Freecharge etc.)     45\n",
       "Name: 15 What is your preferred payment Option?\\t\\t\\t\\t\\t                                                                                                                               , dtype: int64"
      ]
     },
     "execution_count": 178,
     "metadata": {},
     "output_type": "execute_result"
    }
   ],
   "source": [
    "# seeing the preferred payment options of the people\n",
    "new['15 What is your preferred payment Option?\\t\\t\\t\\t\\t                                                                                                                               '].value_counts()"
   ]
  },
  {
   "cell_type": "code",
   "execution_count": 179,
   "id": "10b7277c",
   "metadata": {},
   "outputs": [
    {
     "data": {
      "text/plain": [
       "<AxesSubplot:xlabel='15 What is your preferred payment Option?\\t\\t\\t\\t\\t                                                                                                                               ', ylabel='count'>"
      ]
     },
     "execution_count": 179,
     "metadata": {},
     "output_type": "execute_result"
    },
    {
     "data": {
      "image/png": "[encoded data removed]",
      "text/plain": [
       "<Figure size 432x288 with 1 Axes>"
      ]
     },
     "metadata": {
      "needs_background": "light"
     },
     "output_type": "display_data"
    }
   ],
   "source": [
    "# making countplot\n",
    "sns.countplot('15 What is your preferred payment Option?\\t\\t\\t\\t\\t                                                                                                                               ', data = new)"
   ]
  },
  {
   "cell_type": "code",
   "execution_count": 180,
   "id": "72873cc8",
   "metadata": {},
   "outputs": [],
   "source": [
    "# from here we can see most of the people do their online payments by credit/debit cards"
   ]
  },
  {
   "cell_type": "code",
   "execution_count": 181,
   "id": "bb449cdb",
   "metadata": {},
   "outputs": [
    {
     "data": {
      "text/plain": [
       "Better alternative offer        133\n",
       "Promo code not applicable        54\n",
       "Change in price                  37\n",
       "Lack of trust                    31\n",
       "No preferred mode of payment     14\n",
       "Name: 17 Why did you abandon the “Bag”, “Shopping Cart”?\\t\\t\\t\\t\\t                                                                                                                                                       , dtype: int64"
      ]
     },
     "execution_count": 181,
     "metadata": {},
     "output_type": "execute_result"
    }
   ],
   "source": [
    "# seeing why people abandon their shopping cart\n",
    "new['17 Why did you abandon the “Bag”, “Shopping Cart”?\\t\\t\\t\\t\\t                                                                                                                                                       '].value_counts()"
   ]
  },
  {
   "cell_type": "code",
   "execution_count": 182,
   "id": "2cdf1bfe",
   "metadata": {},
   "outputs": [
    {
     "data": {
      "text/plain": [
       "<AxesSubplot:xlabel='17 Why did you abandon the “Bag”, “Shopping Cart”?\\t\\t\\t\\t\\t                                                                                                                                                       ', ylabel='count'>"
      ]
     },
     "execution_count": 182,
     "metadata": {},
     "output_type": "execute_result"
    },
    {
     "data": {
      "image/png": "[encoded data removed]",
      "text/plain": [
       "<Figure size 432x288 with 1 Axes>"
      ]
     },
     "metadata": {
      "needs_background": "light"
     },
     "output_type": "display_data"
    }
   ],
   "source": [
    "# making countplot\n",
    "sns.countplot('17 Why did you abandon the “Bag”, “Shopping Cart”?\\t\\t\\t\\t\\t                                                                                                                                                       ', data = new)"
   ]
  },
  {
   "cell_type": "code",
   "execution_count": 183,
   "id": "cf344336",
   "metadata": {},
   "outputs": [],
   "source": [
    "# from here we can see most of the people abandon their cart because of the better alternative offer"
   ]
  },
  {
   "cell_type": "code",
   "execution_count": 184,
   "id": "9740850b",
   "metadata": {},
   "outputs": [
    {
     "data": {
      "text/plain": [
       "Strongly agree (5)       164\n",
       "Agree (4)                 80\n",
       "Strongly disagree (1)     18\n",
       "Indifferent (3)            7\n",
       "Name: 18 The content on the website must be easy to read and understand, dtype: int64"
      ]
     },
     "execution_count": 184,
     "metadata": {},
     "output_type": "execute_result"
    }
   ],
   "source": [
    "# seeing people openion on content of the website\n",
    "new['18 The content on the website must be easy to read and understand'].value_counts()"
   ]
  },
  {
   "cell_type": "code",
   "execution_count": 185,
   "id": "d98ae3a1",
   "metadata": {},
   "outputs": [
    {
     "data": {
      "text/plain": [
       "<AxesSubplot:xlabel='18 The content on the website must be easy to read and understand', ylabel='count'>"
      ]
     },
     "execution_count": 185,
     "metadata": {},
     "output_type": "execute_result"
    },
    {
     "data": {
      "image/png": "[encoded data removed]",
      "text/plain": [
       "<Figure size 432x288 with 1 Axes>"
      ]
     },
     "metadata": {
      "needs_background": "light"
     },
     "output_type": "display_data"
    }
   ],
   "source": [
    "# making countplot\n",
    "sns.countplot('18 The content on the website must be easy to read and understand', data = new)"
   ]
  },
  {
   "cell_type": "code",
   "execution_count": 186,
   "id": "0773b6bb",
   "metadata": {},
   "outputs": [],
   "source": [
    "# from here we can see that the content on the website should be easy to read and understand."
   ]
  },
  {
   "cell_type": "code",
   "execution_count": 187,
   "id": "a51cde52",
   "metadata": {},
   "outputs": [
    {
     "data": {
      "text/plain": [
       "Strongly agree (5)    116\n",
       "Agree (4)              92\n",
       "Indifferent (3)        43\n",
       "Dis-agree (2)          18\n",
       "Name: 19 Information on similar product to the one highlighted  is important for product comparison, dtype: int64"
      ]
     },
     "execution_count": 187,
     "metadata": {},
     "output_type": "execute_result"
    }
   ],
   "source": [
    "# seeing people openion about information on similar product\n",
    "new['19 Information on similar product to the one highlighted  is important for product comparison'].value_counts()"
   ]
  },
  {
   "cell_type": "code",
   "execution_count": 188,
   "id": "fca0d178",
   "metadata": {},
   "outputs": [
    {
     "data": {
      "text/plain": [
       "<AxesSubplot:xlabel='19 Information on similar product to the one highlighted  is important for product comparison', ylabel='count'>"
      ]
     },
     "execution_count": 188,
     "metadata": {},
     "output_type": "execute_result"
    },
    {
     "data": {
      "image/png": "[encoded data removed]",
      "text/plain": [
       "<Figure size 432x288 with 1 Axes>"
      ]
     },
     "metadata": {
      "needs_background": "light"
     },
     "output_type": "display_data"
    }
   ],
   "source": [
    "# making countplot\n",
    "sns.countplot('19 Information on similar product to the one highlighted  is important for product comparison', data = new)"
   ]
  },
  {
   "cell_type": "code",
   "execution_count": 189,
   "id": "dc7b2343",
   "metadata": {},
   "outputs": [
    {
     "data": {
      "text/plain": [
       "Agree (4)                101\n",
       "Strongly agree (5)        87\n",
       "Indifferent (3)           52\n",
       "Dis-agree (2)             18\n",
       "Strongly disagree (1)     11\n",
       "Name: 20 Complete information on listed seller and product being offered is important for purchase decision., dtype: int64"
      ]
     },
     "execution_count": 189,
     "metadata": {},
     "output_type": "execute_result"
    }
   ],
   "source": [
    "# seeing openion about seller information\n",
    "new['20 Complete information on listed seller and product being offered is important for purchase decision.'].value_counts()"
   ]
  },
  {
   "cell_type": "code",
   "execution_count": 190,
   "id": "32e4cac7",
   "metadata": {},
   "outputs": [
    {
     "data": {
      "text/plain": [
       "<AxesSubplot:xlabel='20 Complete information on listed seller and product being offered is important for purchase decision.', ylabel='count'>"
      ]
     },
     "execution_count": 190,
     "metadata": {},
     "output_type": "execute_result"
    },
    {
     "data": {
      "image/png": "[encoded data removed]",
      "text/plain": [
       "<Figure size 432x288 with 1 Axes>"
      ]
     },
     "metadata": {
      "needs_background": "light"
     },
     "output_type": "display_data"
    }
   ],
   "source": [
    "# making countplot\n",
    "sns.countplot('20 Complete information on listed seller and product being offered is important for purchase decision.', data = new)"
   ]
  },
  {
   "cell_type": "code",
   "execution_count": 191,
   "id": "f29ab691",
   "metadata": {},
   "outputs": [
    {
     "data": {
      "text/plain": [
       "Agree (4)                132\n",
       "Strongly agree (5)       107\n",
       "Strongly disagree (1)     18\n",
       "Dis-agree (2)             12\n",
       "Name: 21 All relevant information on listed products must be stated clearly, dtype: int64"
      ]
     },
     "execution_count": 191,
     "metadata": {},
     "output_type": "execute_result"
    }
   ],
   "source": [
    "# seeing people openion about relevant information\n",
    "new['21 All relevant information on listed products must be stated clearly'].value_counts()"
   ]
  },
  {
   "cell_type": "code",
   "execution_count": 192,
   "id": "a9045eee",
   "metadata": {},
   "outputs": [
    {
     "data": {
      "text/plain": [
       "<AxesSubplot:xlabel='21 All relevant information on listed products must be stated clearly', ylabel='count'>"
      ]
     },
     "execution_count": 192,
     "metadata": {},
     "output_type": "execute_result"
    },
    {
     "data": {
      "image/png": "[encoded data removed]",
      "text/plain": [
       "<Figure size 432x288 with 1 Axes>"
      ]
     },
     "metadata": {
      "needs_background": "light"
     },
     "output_type": "display_data"
    }
   ],
   "source": [
    "# making countplot\n",
    "sns.countplot('21 All relevant information on listed products must be stated clearly', data = new)"
   ]
  },
  {
   "cell_type": "code",
   "execution_count": 193,
   "id": "432a5649",
   "metadata": {},
   "outputs": [
    {
     "data": {
      "text/plain": [
       "Strongly agree (5)       141\n",
       "Agree (4)                105\n",
       "Strongly disagree (1)     18\n",
       "Dis-agree (2)              5\n",
       "Name: 22 Ease of navigation in website, dtype: int64"
      ]
     },
     "execution_count": 193,
     "metadata": {},
     "output_type": "execute_result"
    }
   ],
   "source": [
    "# seeing openion about ease of navigation\n",
    "new['22 Ease of navigation in website'].value_counts()"
   ]
  },
  {
   "cell_type": "code",
   "execution_count": 194,
   "id": "bc905fa5",
   "metadata": {},
   "outputs": [
    {
     "data": {
      "text/plain": [
       "<AxesSubplot:xlabel='22 Ease of navigation in website', ylabel='count'>"
      ]
     },
     "execution_count": 194,
     "metadata": {},
     "output_type": "execute_result"
    },
    {
     "data": {
      "image/png": "[encoded data removed]",
      "text/plain": [
       "<Figure size 432x288 with 1 Axes>"
      ]
     },
     "metadata": {
      "needs_background": "light"
     },
     "output_type": "display_data"
    }
   ],
   "source": [
    "# making countplot\n",
    "sns.countplot('22 Ease of navigation in website', data = new)"
   ]
  },
  {
   "cell_type": "code",
   "execution_count": 195,
   "id": "d5d8080c",
   "metadata": {},
   "outputs": [],
   "source": [
    "# from here we can see that it should be easy to use the website"
   ]
  },
  {
   "cell_type": "code",
   "execution_count": 196,
   "id": "d6d428e4",
   "metadata": {},
   "outputs": [
    {
     "data": {
      "text/plain": [
       "Strongly agree (5)       115\n",
       "Agree (4)                112\n",
       "Dis-agree (2)             18\n",
       "Strongly disagree (1)     12\n",
       "Indifferent (3)           12\n",
       "Name: 23 Loading and processing speed, dtype: int64"
      ]
     },
     "execution_count": 196,
     "metadata": {},
     "output_type": "execute_result"
    }
   ],
   "source": [
    "# seeing openion about loading and processing speed\n",
    "new['23 Loading and processing speed'].value_counts()"
   ]
  },
  {
   "cell_type": "code",
   "execution_count": 197,
   "id": "c194a0ef",
   "metadata": {},
   "outputs": [
    {
     "data": {
      "text/plain": [
       "<AxesSubplot:xlabel='23 Loading and processing speed', ylabel='count'>"
      ]
     },
     "execution_count": 197,
     "metadata": {},
     "output_type": "execute_result"
    },
    {
     "data": {
      "image/png": "[encoded data removed]",
      "text/plain": [
       "<Figure size 432x288 with 1 Axes>"
      ]
     },
     "metadata": {
      "needs_background": "light"
     },
     "output_type": "display_data"
    }
   ],
   "source": [
    "# making countplot\n",
    "sns.countplot('23 Loading and processing speed', data = new)"
   ]
  },
  {
   "cell_type": "code",
   "execution_count": 198,
   "id": "15b2bb34",
   "metadata": {},
   "outputs": [
    {
     "data": {
      "text/plain": [
       "Strongly agree (5)       189\n",
       "Agree (4)                 45\n",
       "Strongly disagree (1)     18\n",
       "Dis-agree (2)             12\n",
       "Indifferent (3)            5\n",
       "Name: 24 User friendly Interface of the website, dtype: int64"
      ]
     },
     "execution_count": 198,
     "metadata": {},
     "output_type": "execute_result"
    }
   ],
   "source": [
    "# seeing openion about user friendly interface of the website\n",
    "new['24 User friendly Interface of the website'].value_counts()"
   ]
  },
  {
   "cell_type": "code",
   "execution_count": 199,
   "id": "a07c2e86",
   "metadata": {},
   "outputs": [
    {
     "data": {
      "text/plain": [
       "<AxesSubplot:xlabel='24 User friendly Interface of the website', ylabel='count'>"
      ]
     },
     "execution_count": 199,
     "metadata": {},
     "output_type": "execute_result"
    },
    {
     "data": {
      "image/png": "[encoded data removed]",
      "text/plain": [
       "<Figure size 432x288 with 1 Axes>"
      ]
     },
     "metadata": {
      "needs_background": "light"
     },
     "output_type": "display_data"
    }
   ],
   "source": [
    "# making countplot\n",
    "sns.countplot('24 User friendly Interface of the website', data = new)"
   ]
  },
  {
   "cell_type": "code",
   "execution_count": 200,
   "id": "0e5017fc",
   "metadata": {},
   "outputs": [
    {
     "data": {
      "text/plain": [
       "Strongly agree (5)    159\n",
       "Agree (4)              80\n",
       "Dis-agree (2)          30\n",
       "Name: 25 Convenient Payment methods, dtype: int64"
      ]
     },
     "execution_count": 200,
     "metadata": {},
     "output_type": "execute_result"
    }
   ],
   "source": [
    "# openion about convenient payment methods\n",
    "new['25 Convenient Payment methods'].value_counts()"
   ]
  },
  {
   "cell_type": "code",
   "execution_count": 201,
   "id": "0a2a0629",
   "metadata": {},
   "outputs": [
    {
     "data": {
      "text/plain": [
       "<AxesSubplot:xlabel='25 Convenient Payment methods', ylabel='count'>"
      ]
     },
     "execution_count": 201,
     "metadata": {},
     "output_type": "execute_result"
    },
    {
     "data": {
      "image/png": "[encoded data removed]",
      "text/plain": [
       "<Figure size 432x288 with 1 Axes>"
      ]
     },
     "metadata": {
      "needs_background": "light"
     },
     "output_type": "display_data"
    }
   ],
   "source": [
    "# making countplot\n",
    "sns.countplot('25 Convenient Payment methods', data = new)"
   ]
  },
  {
   "cell_type": "code",
   "execution_count": 202,
   "id": "37c77f06",
   "metadata": {},
   "outputs": [],
   "source": [
    "# from here we can see that the payment method should be convenient"
   ]
  },
  {
   "cell_type": "code",
   "execution_count": 203,
   "id": "4895f255",
   "metadata": {},
   "outputs": [
    {
     "data": {
      "text/plain": [
       "Strongly agree (5)    141\n",
       "Agree (4)              86\n",
       "Disagree (2)           30\n",
       "indifferent  (3)       12\n",
       "Name: 26 Trust that the online retail store will fulfill its part of the transaction at the stipulated time, dtype: int64"
      ]
     },
     "execution_count": 203,
     "metadata": {},
     "output_type": "execute_result"
    }
   ],
   "source": [
    "# seeing openion on trust about time\n",
    "new['26 Trust that the online retail store will fulfill its part of the transaction at the stipulated time'].value_counts()"
   ]
  },
  {
   "cell_type": "code",
   "execution_count": 204,
   "id": "e88d3756",
   "metadata": {},
   "outputs": [
    {
     "data": {
      "text/plain": [
       "<AxesSubplot:xlabel='26 Trust that the online retail store will fulfill its part of the transaction at the stipulated time', ylabel='count'>"
      ]
     },
     "execution_count": 204,
     "metadata": {},
     "output_type": "execute_result"
    },
    {
     "data": {
      "image/png": "[encoded data removed]",
      "text/plain": [
       "<Figure size 432x288 with 1 Axes>"
      ]
     },
     "metadata": {
      "needs_background": "light"
     },
     "output_type": "display_data"
    }
   ],
   "source": [
    "# making countplot\n",
    "sns.countplot('26 Trust that the online retail store will fulfill its part of the transaction at the stipulated time', data = new)"
   ]
  },
  {
   "cell_type": "code",
   "execution_count": 205,
   "id": "00dc200a",
   "metadata": {},
   "outputs": [
    {
     "data": {
      "text/plain": [
       "Strongly agree (5)       194\n",
       "Agree (4)                 42\n",
       "Strongly disagree (1)     18\n",
       "indifferent (3)           15\n",
       "Name: 27 Empathy (readiness to assist with queries) towards the customers, dtype: int64"
      ]
     },
     "execution_count": 205,
     "metadata": {},
     "output_type": "execute_result"
    }
   ],
   "source": [
    "# openion about empathy\n",
    "new['27 Empathy (readiness to assist with queries) towards the customers'].value_counts()"
   ]
  },
  {
   "cell_type": "code",
   "execution_count": 206,
   "id": "1c4aafb4",
   "metadata": {},
   "outputs": [
    {
     "data": {
      "text/plain": [
       "<AxesSubplot:xlabel='27 Empathy (readiness to assist with queries) towards the customers', ylabel='count'>"
      ]
     },
     "execution_count": 206,
     "metadata": {},
     "output_type": "execute_result"
    },
    {
     "data": {
      "image/png": "[encoded data removed]",
      "text/plain": [
       "<Figure size 432x288 with 1 Axes>"
      ]
     },
     "metadata": {
      "needs_background": "light"
     },
     "output_type": "display_data"
    }
   ],
   "source": [
    "# making countplot\n",
    "sns.countplot('27 Empathy (readiness to assist with queries) towards the customers', data = new)"
   ]
  },
  {
   "cell_type": "code",
   "execution_count": 207,
   "id": "43471565",
   "metadata": {},
   "outputs": [
    {
     "data": {
      "text/plain": [
       "Strongly agree (5)    185\n",
       "Agree (4)              58\n",
       "indifferent (3)        26\n",
       "Name: 28 Being able to guarantee the privacy of the customer, dtype: int64"
      ]
     },
     "execution_count": 207,
     "metadata": {},
     "output_type": "execute_result"
    }
   ],
   "source": [
    "# openion about privacy of the customer\n",
    "new['28 Being able to guarantee the privacy of the customer'].value_counts()"
   ]
  },
  {
   "cell_type": "code",
   "execution_count": 208,
   "id": "d1d6b25e",
   "metadata": {},
   "outputs": [
    {
     "data": {
      "text/plain": [
       "<AxesSubplot:xlabel='28 Being able to guarantee the privacy of the customer', ylabel='count'>"
      ]
     },
     "execution_count": 208,
     "metadata": {},
     "output_type": "execute_result"
    },
    {
     "data": {
      "image/png": "[encoded data removed]",
      "text/plain": [
       "<Figure size 432x288 with 1 Axes>"
      ]
     },
     "metadata": {
      "needs_background": "light"
     },
     "output_type": "display_data"
    }
   ],
   "source": [
    "# making countplot\n",
    "sns.countplot('28 Being able to guarantee the privacy of the customer', data = new)"
   ]
  },
  {
   "cell_type": "code",
   "execution_count": 209,
   "id": "3f039bf1",
   "metadata": {},
   "outputs": [],
   "source": [
    "# from here we can see that there should be privacy"
   ]
  },
  {
   "cell_type": "code",
   "execution_count": 210,
   "id": "afcc8e60",
   "metadata": {},
   "outputs": [
    {
     "data": {
      "text/plain": [
       "Strongly agree (5)       149\n",
       "Agree (4)                 94\n",
       "indifferent (3)           15\n",
       "Strongly disagree (1)     11\n",
       "Name: 29 Responsiveness, availability of several communication channels (email, online rep, twitter, phone etc.), dtype: int64"
      ]
     },
     "execution_count": 210,
     "metadata": {},
     "output_type": "execute_result"
    }
   ],
   "source": [
    "# openion about the response from the other side\n",
    "new['29 Responsiveness, availability of several communication channels (email, online rep, twitter, phone etc.)'].value_counts()"
   ]
  },
  {
   "cell_type": "code",
   "execution_count": 211,
   "id": "770df916",
   "metadata": {},
   "outputs": [
    {
     "data": {
      "text/plain": [
       "<AxesSubplot:xlabel='29 Responsiveness, availability of several communication channels (email, online rep, twitter, phone etc.)', ylabel='count'>"
      ]
     },
     "execution_count": 211,
     "metadata": {},
     "output_type": "execute_result"
    },
    {
     "data": {
      "image/png": "[encoded data removed]",
      "text/plain": [
       "<Figure size 432x288 with 1 Axes>"
      ]
     },
     "metadata": {
      "needs_background": "light"
     },
     "output_type": "display_data"
    }
   ],
   "source": [
    "# making countplot\n",
    "sns.countplot('29 Responsiveness, availability of several communication channels (email, online rep, twitter, phone etc.)', data = new)"
   ]
  },
  {
   "cell_type": "code",
   "execution_count": 212,
   "id": "7686cd16",
   "metadata": {},
   "outputs": [
    {
     "data": {
      "text/plain": [
       "Strongly agree (5)       105\n",
       "Agree (4)                 85\n",
       "indifferent (3)           50\n",
       "Strongly disagree (1)     18\n",
       "Dis-agree (2)             11\n",
       "Name: 30 Online shopping gives monetary benefit and discounts, dtype: int64"
      ]
     },
     "execution_count": 212,
     "metadata": {},
     "output_type": "execute_result"
    }
   ],
   "source": [
    "# openions about benefits and discounts\n",
    "new['30 Online shopping gives monetary benefit and discounts'].value_counts()"
   ]
  },
  {
   "cell_type": "code",
   "execution_count": 213,
   "id": "394b9130",
   "metadata": {},
   "outputs": [
    {
     "data": {
      "text/plain": [
       "<AxesSubplot:xlabel='30 Online shopping gives monetary benefit and discounts', ylabel='count'>"
      ]
     },
     "execution_count": 213,
     "metadata": {},
     "output_type": "execute_result"
    },
    {
     "data": {
      "image/png": "[encoded data removed]",
      "text/plain": [
       "<Figure size 432x288 with 1 Axes>"
      ]
     },
     "metadata": {
      "needs_background": "light"
     },
     "output_type": "display_data"
    }
   ],
   "source": [
    "# making countplot\n",
    "sns.countplot('30 Online shopping gives monetary benefit and discounts', data = new)"
   ]
  },
  {
   "cell_type": "code",
   "execution_count": 214,
   "id": "12676e72",
   "metadata": {},
   "outputs": [],
   "source": [
    "# from here we can see that there are most of the people says that the online shopping gives discounts and benefits."
   ]
  },
  {
   "cell_type": "code",
   "execution_count": 215,
   "id": "03905663",
   "metadata": {},
   "outputs": [
    {
     "data": {
      "text/plain": [
       "Strongly agree (5)       86\n",
       "indifferent (3)          75\n",
       "Agree (4)                59\n",
       "Strongly disagree (1)    30\n",
       "Dis-agree (2)            19\n",
       "Name: 31 Enjoyment is derived from shopping online, dtype: int64"
      ]
     },
     "execution_count": 215,
     "metadata": {},
     "output_type": "execute_result"
    }
   ],
   "source": [
    "# seeing people's openion about enjoyment of online shopping\n",
    "new['31 Enjoyment is derived from shopping online'].value_counts()"
   ]
  },
  {
   "cell_type": "code",
   "execution_count": 216,
   "id": "794c0897",
   "metadata": {},
   "outputs": [
    {
     "data": {
      "text/plain": [
       "<AxesSubplot:xlabel='31 Enjoyment is derived from shopping online', ylabel='count'>"
      ]
     },
     "execution_count": 216,
     "metadata": {},
     "output_type": "execute_result"
    },
    {
     "data": {
      "image/png": "[encoded data removed]",
      "text/plain": [
       "<Figure size 432x288 with 1 Axes>"
      ]
     },
     "metadata": {
      "needs_background": "light"
     },
     "output_type": "display_data"
    }
   ],
   "source": [
    "# making countplot\n",
    "sns.countplot('31 Enjoyment is derived from shopping online', data = new)"
   ]
  },
  {
   "cell_type": "code",
   "execution_count": 217,
   "id": "eb44100b",
   "metadata": {},
   "outputs": [
    {
     "data": {
      "text/plain": [
       "Strongly agree (5)    146\n",
       "Agree (4)              78\n",
       "indifferent (3)        33\n",
       "Dis-agree (2)          12\n",
       "Name: 32 Shopping online is convenient and flexible, dtype: int64"
      ]
     },
     "execution_count": 217,
     "metadata": {},
     "output_type": "execute_result"
    }
   ],
   "source": [
    "# seeing openion about convenience and flexibility\n",
    "new['32 Shopping online is convenient and flexible'].value_counts()"
   ]
  },
  {
   "cell_type": "code",
   "execution_count": 218,
   "id": "706f2d21",
   "metadata": {},
   "outputs": [
    {
     "data": {
      "text/plain": [
       "<AxesSubplot:xlabel='32 Shopping online is convenient and flexible', ylabel='count'>"
      ]
     },
     "execution_count": 218,
     "metadata": {},
     "output_type": "execute_result"
    },
    {
     "data": {
      "image/png": "[encoded data removed]",
      "text/plain": [
       "<Figure size 432x288 with 1 Axes>"
      ]
     },
     "metadata": {
      "needs_background": "light"
     },
     "output_type": "display_data"
    }
   ],
   "source": [
    "# making countplot\n",
    "sns.countplot('32 Shopping online is convenient and flexible', data = new)"
   ]
  },
  {
   "cell_type": "code",
   "execution_count": 219,
   "id": "653c40de",
   "metadata": {},
   "outputs": [],
   "source": [
    "# by seeing this graph we can say that online shopping are convenient and gives flexibility"
   ]
  },
  {
   "cell_type": "code",
   "execution_count": 220,
   "id": "1ab83a39",
   "metadata": {},
   "outputs": [
    {
     "data": {
      "text/plain": [
       "Strongly agree (5)    198\n",
       "Agree (4)              51\n",
       "Dis-agree (2)          20\n",
       "Name: 33 Return and replacement policy of the e-tailer is important for purchase decision, dtype: int64"
      ]
     },
     "execution_count": 220,
     "metadata": {},
     "output_type": "execute_result"
    }
   ],
   "source": [
    "# seeing openion about effect of return and replacement policy\n",
    "new['33 Return and replacement policy of the e-tailer is important for purchase decision'].value_counts()"
   ]
  },
  {
   "cell_type": "code",
   "execution_count": 221,
   "id": "140d8425",
   "metadata": {},
   "outputs": [
    {
     "data": {
      "text/plain": [
       "<AxesSubplot:xlabel='33 Return and replacement policy of the e-tailer is important for purchase decision', ylabel='count'>"
      ]
     },
     "execution_count": 221,
     "metadata": {},
     "output_type": "execute_result"
    },
    {
     "data": {
      "image/png": "[encoded data removed]",
      "text/plain": [
       "<Figure size 432x288 with 1 Axes>"
      ]
     },
     "metadata": {
      "needs_background": "light"
     },
     "output_type": "display_data"
    }
   ],
   "source": [
    "# making countplot\n",
    "sns.countplot('33 Return and replacement policy of the e-tailer is important for purchase decision', data = new)"
   ]
  },
  {
   "cell_type": "code",
   "execution_count": 222,
   "id": "46c9266d",
   "metadata": {},
   "outputs": [],
   "source": [
    "# by seeing this graph we can say that the return and replacement policy makes a huge impact on online shopping"
   ]
  },
  {
   "cell_type": "code",
   "execution_count": 223,
   "id": "66635804",
   "metadata": {},
   "outputs": [
    {
     "data": {
      "text/plain": [
       "Strongly agree (5)       115\n",
       "Agree (4)                 64\n",
       "indifferent (3)           64\n",
       "Dis-agree (2)             15\n",
       "Strongly disagree (1)     11\n",
       "Name: 34 Gaining access to loyalty programs is a benefit of shopping online, dtype: int64"
      ]
     },
     "execution_count": 223,
     "metadata": {},
     "output_type": "execute_result"
    }
   ],
   "source": [
    "# seeing openion about loyalty programs\n",
    "new['34 Gaining access to loyalty programs is a benefit of shopping online'].value_counts()"
   ]
  },
  {
   "cell_type": "code",
   "execution_count": 224,
   "id": "2eec2e2c",
   "metadata": {},
   "outputs": [
    {
     "data": {
      "text/plain": [
       "<AxesSubplot:xlabel='34 Gaining access to loyalty programs is a benefit of shopping online', ylabel='count'>"
      ]
     },
     "execution_count": 224,
     "metadata": {},
     "output_type": "execute_result"
    },
    {
     "data": {
      "image/png": "[encoded data removed]",
      "text/plain": [
       "<Figure size 432x288 with 1 Axes>"
      ]
     },
     "metadata": {
      "needs_background": "light"
     },
     "output_type": "display_data"
    }
   ],
   "source": [
    "# making countplot\n",
    "sns.countplot('34 Gaining access to loyalty programs is a benefit of shopping online', data = new)"
   ]
  },
  {
   "cell_type": "code",
   "execution_count": 225,
   "id": "eeb89436",
   "metadata": {},
   "outputs": [
    {
     "data": {
      "text/plain": [
       "Strongly agree (5)    133\n",
       "Agree (4)              80\n",
       "indifferent (3)        56\n",
       "Name: 35 Displaying quality Information on the website improves satisfaction of customers, dtype: int64"
      ]
     },
     "execution_count": 225,
     "metadata": {},
     "output_type": "execute_result"
    }
   ],
   "source": [
    "# seeing openion about quality information\n",
    "new['35 Displaying quality Information on the website improves satisfaction of customers'].value_counts()"
   ]
  },
  {
   "cell_type": "code",
   "execution_count": 226,
   "id": "107cec90",
   "metadata": {},
   "outputs": [
    {
     "data": {
      "text/plain": [
       "<AxesSubplot:xlabel='35 Displaying quality Information on the website improves satisfaction of customers', ylabel='count'>"
      ]
     },
     "execution_count": 226,
     "metadata": {},
     "output_type": "execute_result"
    },
    {
     "data": {
      "image/png": "[encoded data removed]",
      "text/plain": [
       "<Figure size 432x288 with 1 Axes>"
      ]
     },
     "metadata": {
      "needs_background": "light"
     },
     "output_type": "display_data"
    }
   ],
   "source": [
    "# making countplot\n",
    "sns.countplot('35 Displaying quality Information on the website improves satisfaction of customers', data = new)"
   ]
  },
  {
   "cell_type": "code",
   "execution_count": 227,
   "id": "fd8168f4",
   "metadata": {},
   "outputs": [
    {
     "data": {
      "text/plain": [
       "Strongly agree (5)    175\n",
       "Agree (4)              86\n",
       "Dis-agree (2)           8\n",
       "Name: 36 User derive satisfaction while shopping on a good quality website or application, dtype: int64"
      ]
     },
     "execution_count": 227,
     "metadata": {},
     "output_type": "execute_result"
    }
   ],
   "source": [
    "# openion about good quality of the website or application\n",
    "new['36 User derive satisfaction while shopping on a good quality website or application'].value_counts()"
   ]
  },
  {
   "cell_type": "code",
   "execution_count": 228,
   "id": "561533a5",
   "metadata": {},
   "outputs": [
    {
     "data": {
      "text/plain": [
       "<AxesSubplot:xlabel='36 User derive satisfaction while shopping on a good quality website or application', ylabel='count'>"
      ]
     },
     "execution_count": 228,
     "metadata": {},
     "output_type": "execute_result"
    },
    {
     "data": {
      "image/png": "[encoded data removed]",
      "text/plain": [
       "<Figure size 432x288 with 1 Axes>"
      ]
     },
     "metadata": {
      "needs_background": "light"
     },
     "output_type": "display_data"
    }
   ],
   "source": [
    "# making countplot\n",
    "sns.countplot('36 User derive satisfaction while shopping on a good quality website or application', data = new)"
   ]
  },
  {
   "cell_type": "code",
   "execution_count": 229,
   "id": "6ea5b9bb",
   "metadata": {},
   "outputs": [],
   "source": [
    "# by seeing this graph we can say that the quality of the website or application should be good"
   ]
  },
  {
   "cell_type": "code",
   "execution_count": 230,
   "id": "755d36a2",
   "metadata": {},
   "outputs": [
    {
     "data": {
      "text/plain": [
       "Strongly agree (5)    164\n",
       "Agree (4)              54\n",
       "indifferent (3)        40\n",
       "Dis-agree (2)          11\n",
       "Name: 37 Net Benefit derived from shopping online can lead to users satisfaction, dtype: int64"
      ]
     },
     "execution_count": 230,
     "metadata": {},
     "output_type": "execute_result"
    }
   ],
   "source": [
    "# openion about overall benefit\n",
    "new['37 Net Benefit derived from shopping online can lead to users satisfaction'].value_counts()"
   ]
  },
  {
   "cell_type": "code",
   "execution_count": 231,
   "id": "3f8840c1",
   "metadata": {},
   "outputs": [
    {
     "data": {
      "text/plain": [
       "<AxesSubplot:xlabel='37 Net Benefit derived from shopping online can lead to users satisfaction', ylabel='count'>"
      ]
     },
     "execution_count": 231,
     "metadata": {},
     "output_type": "execute_result"
    },
    {
     "data": {
      "image/png": "[encoded data removed]",
      "text/plain": [
       "<Figure size 432x288 with 1 Axes>"
      ]
     },
     "metadata": {
      "needs_background": "light"
     },
     "output_type": "display_data"
    }
   ],
   "source": [
    "# making countplot\n",
    "sns.countplot('37 Net Benefit derived from shopping online can lead to users satisfaction', data = new)"
   ]
  },
  {
   "cell_type": "code",
   "execution_count": 232,
   "id": "c4886288",
   "metadata": {},
   "outputs": [
    {
     "data": {
      "text/plain": [
       "Strongly agree (5)       122\n",
       "Agree (4)                117\n",
       "Strongly disagree (1)     18\n",
       "Dis-agree (2)              7\n",
       "indifferent (3)            5\n",
       "Name: 38 User satisfaction cannot exist without trust, dtype: int64"
      ]
     },
     "execution_count": 232,
     "metadata": {},
     "output_type": "execute_result"
    }
   ],
   "source": [
    "# seeing openion about satisfaction and trust\n",
    "new['38 User satisfaction cannot exist without trust'].value_counts()"
   ]
  },
  {
   "cell_type": "code",
   "execution_count": 233,
   "id": "20c75f93",
   "metadata": {},
   "outputs": [
    {
     "data": {
      "text/plain": [
       "<AxesSubplot:xlabel='38 User satisfaction cannot exist without trust', ylabel='count'>"
      ]
     },
     "execution_count": 233,
     "metadata": {},
     "output_type": "execute_result"
    },
    {
     "data": {
      "image/png": "[encoded data removed]",
      "text/plain": [
       "<Figure size 432x288 with 1 Axes>"
      ]
     },
     "metadata": {
      "needs_background": "light"
     },
     "output_type": "display_data"
    }
   ],
   "source": [
    "# making countplot\n",
    "sns.countplot('38 User satisfaction cannot exist without trust', data = new)"
   ]
  },
  {
   "cell_type": "code",
   "execution_count": 234,
   "id": "3b3c3cb0",
   "metadata": {},
   "outputs": [],
   "source": [
    "# from here we can say that the satisfaction of the user can't exist without trust"
   ]
  },
  {
   "cell_type": "code",
   "execution_count": 235,
   "id": "28d1c6b4",
   "metadata": {},
   "outputs": [
    {
     "data": {
      "text/plain": [
       "Strongly agree (5)    111\n",
       "Agree (4)              94\n",
       "indifferent (3)        57\n",
       "Dis-agree (2)           7\n",
       "Name: 39 Offering a wide variety of listed product in several category, dtype: int64"
      ]
     },
     "execution_count": 235,
     "metadata": {},
     "output_type": "execute_result"
    }
   ],
   "source": [
    "# peoples openion about variety of products on online\n",
    "new['39 Offering a wide variety of listed product in several category'].value_counts()"
   ]
  },
  {
   "cell_type": "code",
   "execution_count": 236,
   "id": "7454915e",
   "metadata": {},
   "outputs": [
    {
     "data": {
      "text/plain": [
       "<AxesSubplot:xlabel='39 Offering a wide variety of listed product in several category', ylabel='count'>"
      ]
     },
     "execution_count": 236,
     "metadata": {},
     "output_type": "execute_result"
    },
    {
     "data": {
      "image/png": "[encoded data removed]",
      "text/plain": [
       "<Figure size 432x288 with 1 Axes>"
      ]
     },
     "metadata": {
      "needs_background": "light"
     },
     "output_type": "display_data"
    }
   ],
   "source": [
    "# making countplot\n",
    "sns.countplot('39 Offering a wide variety of listed product in several category', data = new)"
   ]
  },
  {
   "cell_type": "code",
   "execution_count": 237,
   "id": "44bcb4bc",
   "metadata": {},
   "outputs": [],
   "source": [
    "# from here we can see that the people says that there are wide variety of products are available online"
   ]
  },
  {
   "cell_type": "code",
   "execution_count": 238,
   "id": "a689b7fd",
   "metadata": {},
   "outputs": [
    {
     "data": {
      "text/plain": [
       "Strongly agree (5)    135\n",
       "Agree (4)              98\n",
       "indifferent (3)        31\n",
       "Disagree (2)            5\n",
       "Name: 40 Provision of complete and relevant product information, dtype: int64"
      ]
     },
     "execution_count": 238,
     "metadata": {},
     "output_type": "execute_result"
    }
   ],
   "source": [
    "# openion about product information\n",
    "new['40 Provision of complete and relevant product information'].value_counts()"
   ]
  },
  {
   "cell_type": "code",
   "execution_count": 239,
   "id": "e038614d",
   "metadata": {},
   "outputs": [
    {
     "data": {
      "text/plain": [
       "<AxesSubplot:xlabel='40 Provision of complete and relevant product information', ylabel='count'>"
      ]
     },
     "execution_count": 239,
     "metadata": {},
     "output_type": "execute_result"
    },
    {
     "data": {
      "image/png": "[encoded data removed]",
      "text/plain": [
       "<Figure size 432x288 with 1 Axes>"
      ]
     },
     "metadata": {
      "needs_background": "light"
     },
     "output_type": "display_data"
    }
   ],
   "source": [
    "# making countplot\n",
    "sns.countplot('40 Provision of complete and relevant product information', data = new)"
   ]
  },
  {
   "cell_type": "code",
   "execution_count": 240,
   "id": "b801e37c",
   "metadata": {},
   "outputs": [],
   "source": [
    "# form here we can say that there should be a provision of complete and relevant product information"
   ]
  },
  {
   "cell_type": "code",
   "execution_count": 241,
   "id": "b4c01bbf",
   "metadata": {},
   "outputs": [
    {
     "data": {
      "text/plain": [
       "Strongly agree (5)    148\n",
       "Agree (4)              75\n",
       "Disagree (2)           31\n",
       "indifferent (3)        15\n",
       "Name: 41 Monetary savings, dtype: int64"
      ]
     },
     "execution_count": 241,
     "metadata": {},
     "output_type": "execute_result"
    }
   ],
   "source": [
    "# openion about monetary savings\n",
    "new['41 Monetary savings'].value_counts()"
   ]
  },
  {
   "cell_type": "code",
   "execution_count": 242,
   "id": "a104db46",
   "metadata": {},
   "outputs": [
    {
     "data": {
      "text/plain": [
       "<AxesSubplot:xlabel='41 Monetary savings', ylabel='count'>"
      ]
     },
     "execution_count": 242,
     "metadata": {},
     "output_type": "execute_result"
    },
    {
     "data": {
      "image/png": "[encoded data removed]",
      "text/plain": [
       "<Figure size 432x288 with 1 Axes>"
      ]
     },
     "metadata": {
      "needs_background": "light"
     },
     "output_type": "display_data"
    }
   ],
   "source": [
    "# making countplot\n",
    "sns.countplot('41 Monetary savings', data = new)"
   ]
  },
  {
   "cell_type": "code",
   "execution_count": 243,
   "id": "497ce8d7",
   "metadata": {},
   "outputs": [
    {
     "data": {
      "text/plain": [
       "Agree (4)             138\n",
       "indifferent (3)        77\n",
       "Strongly agree (5)     54\n",
       "Name: 42 The Convenience of patronizing the online retailer, dtype: int64"
      ]
     },
     "execution_count": 243,
     "metadata": {},
     "output_type": "execute_result"
    }
   ],
   "source": [
    "# openion about patronizing\n",
    "new['42 The Convenience of patronizing the online retailer'].value_counts()"
   ]
  },
  {
   "cell_type": "code",
   "execution_count": 244,
   "id": "f3427635",
   "metadata": {},
   "outputs": [
    {
     "data": {
      "text/plain": [
       "<AxesSubplot:xlabel='42 The Convenience of patronizing the online retailer', ylabel='count'>"
      ]
     },
     "execution_count": 244,
     "metadata": {},
     "output_type": "execute_result"
    },
    {
     "data": {
      "image/png": "[encoded data removed]",
      "text/plain": [
       "<Figure size 432x288 with 1 Axes>"
      ]
     },
     "metadata": {
      "needs_background": "light"
     },
     "output_type": "display_data"
    }
   ],
   "source": [
    "# making countplot\n",
    "sns.countplot('42 The Convenience of patronizing the online retailer', data = new)"
   ]
  },
  {
   "cell_type": "code",
   "execution_count": 245,
   "id": "a6ec557a",
   "metadata": {},
   "outputs": [
    {
     "data": {
      "text/plain": [
       "indifferent (3)          101\n",
       "Strongly agree (5)        65\n",
       "Agree (4)                 63\n",
       "Disagree (2)              22\n",
       "Strongly disagree (1)     18\n",
       "Name: 45 You feel gratification shopping on your favorite e-tailer, dtype: int64"
      ]
     },
     "execution_count": 245,
     "metadata": {},
     "output_type": "execute_result"
    }
   ],
   "source": [
    "# openion about value for money spent on online shopping\n",
    "new['45 You feel gratification shopping on your favorite e-tailer'].value_counts()"
   ]
  },
  {
   "cell_type": "code",
   "execution_count": 246,
   "id": "9056c65f",
   "metadata": {},
   "outputs": [
    {
     "data": {
      "text/plain": [
       "<AxesSubplot:xlabel='45 You feel gratification shopping on your favorite e-tailer', ylabel='count'>"
      ]
     },
     "execution_count": 246,
     "metadata": {},
     "output_type": "execute_result"
    },
    {
     "data": {
      "image/png": "[encoded data removed]",
      "text/plain": [
       "<Figure size 432x288 with 1 Axes>"
      ]
     },
     "metadata": {
      "needs_background": "light"
     },
     "output_type": "display_data"
    }
   ],
   "source": [
    "# making countplot\n",
    "sns.countplot('45 You feel gratification shopping on your favorite e-tailer', data = new)"
   ]
  },
  {
   "cell_type": "code",
   "execution_count": 247,
   "id": "2db21b76",
   "metadata": {},
   "outputs": [],
   "source": [
    "# from all the above analysis we can see all the factors that affect online shopping and user experience, these are the reason \n",
    "# to gain or lose customers and how they affect."
   ]
  },
  {
   "cell_type": "code",
   "execution_count": null,
   "id": "8e573371",
   "metadata": {},
   "outputs": [],
   "source": []
  },
  {
   "cell_type": "code",
   "execution_count": null,
   "id": "f3409744",
   "metadata": {},
   "outputs": [],
   "source": []
  }
 ],
 "metadata": {
  "kernelspec": {
   "display_name": "Python 3 (ipykernel)",
   "language": "python",
   "name": "python3"
  },
  "language_info": {
   "codemirror_mode": {
    "name": "ipython",
    "version": 3
   },
   "file_extension": ".py",
   "mimetype": "text/x-python",
   "name": "python",
   "nbconvert_exporter": "python",
   "pygments_lexer": "ipython3",
   "version": "3.9.12"
  }
 },
 "nbformat": 4,
 "nbformat_minor": 5
}
