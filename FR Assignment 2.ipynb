{
 "cells": [
  {
   "cell_type": "markdown",
   "id": "bb288400",
   "metadata": {},
   "source": [
    "# Data Analyst Job data"
   ]
  },
  {
   "cell_type": "code",
   "execution_count": 20,
   "id": "56056bca",
   "metadata": {},
   "outputs": [],
   "source": [
    "# Importing required libraries\n",
    "import selenium\n",
    "import pandas as pd  # it will use to make dataframe\n",
    "from selenium import webdriver  # it is because we need to connect to webdriver\n",
    "from selenium.webdriver.common.by import By  # it will help to connect to the webdriver\n",
    "import warnings\n",
    "warnings.filterwarnings('ignore')  # this will ignore all the unnecessary warnings\n",
    "import time"
   ]
  },
  {
   "cell_type": "code",
   "execution_count": 21,
   "id": "21f820f2",
   "metadata": {},
   "outputs": [],
   "source": [
    "# now we need to connect to the webdriver\n",
    "driver = webdriver.Chrome(r'C:\\Users\\sonus\\Downloads\\chromedriver_win32\\chromedriver.exe')\n",
    "\n",
    "# sending link to connect to our desired website into the automated web browser\n",
    "driver.get('https://www.naukri.com/')"
   ]
  },
  {
   "cell_type": "code",
   "execution_count": 22,
   "id": "09d152d6",
   "metadata": {},
   "outputs": [],
   "source": [
    "# inserting designation and location as required\n",
    "# first finding the designation element\n",
    "designation = driver.find_element(By.CLASS_NAME,'suggestor-input ')\n",
    "designation.send_keys('Data Analyst')  # sending Data Analyst as a keyword to enter in designation field"
   ]
  },
  {
   "cell_type": "code",
   "execution_count": 23,
   "id": "8e5d227b",
   "metadata": {},
   "outputs": [],
   "source": [
    "# finding the location element\n",
    "location = driver.find_element(By.XPATH,'/html/body/div[1]/div[6]/div/div/div[5]/div/div/div/input')\n",
    "location.send_keys('Bangalore')  # here we are finding the location element by its xpath because class names are same for both"
   ]
  },
  {
   "cell_type": "code",
   "execution_count": 24,
   "id": "7319051a",
   "metadata": {},
   "outputs": [],
   "source": [
    "# finding the search button \n",
    "search = driver.find_element(By.CLASS_NAME,'qsbSubmit')\n",
    "search.click() # clicking the search"
   ]
  },
  {
   "cell_type": "code",
   "execution_count": 25,
   "id": "b22ab7d6",
   "metadata": {},
   "outputs": [],
   "source": [
    "# making different lists to store different data in it\n",
    "job_title = []\n",
    "job_location = []\n",
    "company_name = []\n",
    "experience_required = []"
   ]
  },
  {
   "cell_type": "code",
   "execution_count": 26,
   "id": "ee777ef7",
   "metadata": {},
   "outputs": [],
   "source": [
    "# scrapping the job title from the page\n",
    "title = driver.find_elements(By.XPATH,'//a[@class=\"title fw500 ellipsis\"]')  # finding all the job titles\n",
    "for i in title[0:10]:  # gettig only first 10 job titles\n",
    "    job_title.append(i.text)  # appending these titles in the list\n",
    "    \n",
    "# scrapping the job location\n",
    "location = driver.find_elements(By.XPATH,'//span[@class=\"ellipsis fleft fs12 lh16 locWdth\"]') # finding all the locations\n",
    "for i in location[0:10]: # getting only first 10 job location respectively\n",
    "    job_location.append(i.text) # appending these locations in list\n",
    "    \n",
    "# Scraping company name\n",
    "company = driver.find_elements(By.XPATH,'//a[@class=\"subTitle ellipsis fleft\"]') # finding all the company names\n",
    "for i in company[0:10]: # getting only first 10 company names respectively\n",
    "    company_name.append(i.text)  # appending them in list\n",
    "    \n",
    "# scraping experience required for jobs\n",
    "experience = driver.find_elements(By.XPATH,'//span[@class=\"ellipsis fleft fs12 lh16 expwdth\"]') # finding experience for jobs\n",
    "for i in experience[0:10]: # getting only first 10 jobs experience required\n",
    "    experience_required.append(i.text)  # appending them in list"
   ]
  },
  {
   "cell_type": "code",
   "execution_count": 27,
   "id": "16f5ca2b",
   "metadata": {},
   "outputs": [
    {
     "data": {
      "text/plain": [
       "(10, 10, 10, 10)"
      ]
     },
     "execution_count": 27,
     "metadata": {},
     "output_type": "execute_result"
    }
   ],
   "source": [
    "# Checking the length of the data\n",
    "len(job_title),len(job_location),len(company_name),len(experience_required)"
   ]
  },
  {
   "cell_type": "code",
   "execution_count": 30,
   "id": "3345c944",
   "metadata": {},
   "outputs": [
    {
     "data": {
      "text/html": [
       "<div>\n",
       "<style scoped>\n",
       "    .dataframe tbody tr th:only-of-type {\n",
       "        vertical-align: middle;\n",
       "    }\n",
       "\n",
       "    .dataframe tbody tr th {\n",
       "        vertical-align: top;\n",
       "    }\n",
       "\n",
       "    .dataframe thead th {\n",
       "        text-align: right;\n",
       "    }\n",
       "</style>\n",
       "<table border=\"1\" class=\"dataframe\">\n",
       "  <thead>\n",
       "    <tr style=\"text-align: right;\">\n",
       "      <th></th>\n",
       "      <th>Job Title</th>\n",
       "      <th>Job Location</th>\n",
       "      <th>Company Name</th>\n",
       "      <th>Experience Required</th>\n",
       "    </tr>\n",
       "  </thead>\n",
       "  <tbody>\n",
       "    <tr>\n",
       "      <th>0</th>\n",
       "      <td>Senior Data Analyst II</td>\n",
       "      <td>Bangalore/Bengaluru</td>\n",
       "      <td>Flipkart</td>\n",
       "      <td>2-4 Yrs</td>\n",
       "    </tr>\n",
       "    <tr>\n",
       "      <th>1</th>\n",
       "      <td>Project Data Analyst</td>\n",
       "      <td>Bangalore/Bengaluru</td>\n",
       "      <td>WSP</td>\n",
       "      <td>0-4 Yrs</td>\n",
       "    </tr>\n",
       "    <tr>\n",
       "      <th>2</th>\n",
       "      <td>Data Analyst, Business Analyst</td>\n",
       "      <td>Bangalore/Bengaluru(HSR Layout +1)</td>\n",
       "      <td>Clinilaunch Research Institute Llp</td>\n",
       "      <td>0-5 Yrs</td>\n",
       "    </tr>\n",
       "    <tr>\n",
       "      <th>3</th>\n",
       "      <td>Data Analyst</td>\n",
       "      <td>Temp. WFH - Bangalore/Bengaluru</td>\n",
       "      <td>Treebo Hotels</td>\n",
       "      <td>1-5 Yrs</td>\n",
       "    </tr>\n",
       "    <tr>\n",
       "      <th>4</th>\n",
       "      <td>Executive - Data Analyst</td>\n",
       "      <td>Bangalore/Bengaluru</td>\n",
       "      <td>Flipkart</td>\n",
       "      <td>1-5 Yrs</td>\n",
       "    </tr>\n",
       "    <tr>\n",
       "      <th>5</th>\n",
       "      <td>Data Analyst</td>\n",
       "      <td>Bangalore/Bengaluru</td>\n",
       "      <td>Cargill</td>\n",
       "      <td>2-4 Yrs</td>\n",
       "    </tr>\n",
       "    <tr>\n",
       "      <th>6</th>\n",
       "      <td>Data Analyst / Product Analyst / Business Analyst</td>\n",
       "      <td>Bangalore/Bengaluru, Delhi / NCR</td>\n",
       "      <td>Benchire</td>\n",
       "      <td>2-5 Yrs</td>\n",
       "    </tr>\n",
       "    <tr>\n",
       "      <th>7</th>\n",
       "      <td>Senior Data Analyst - Data Modeling/Quality</td>\n",
       "      <td>Bangalore/Bengaluru</td>\n",
       "      <td>Get My Parking</td>\n",
       "      <td>4-9 Yrs</td>\n",
       "    </tr>\n",
       "    <tr>\n",
       "      <th>8</th>\n",
       "      <td>Senior Data Analyst</td>\n",
       "      <td>Bangalore/Bengaluru, Kolkata, Hyderabad/Secund...</td>\n",
       "      <td>Yallas Technology Solutions Opc</td>\n",
       "      <td>2-7 Yrs</td>\n",
       "    </tr>\n",
       "    <tr>\n",
       "      <th>9</th>\n",
       "      <td>Sr . Data Analyst</td>\n",
       "      <td>Bangalore/Bengaluru</td>\n",
       "      <td>Aidash Systems</td>\n",
       "      <td>3-8 Yrs</td>\n",
       "    </tr>\n",
       "  </tbody>\n",
       "</table>\n",
       "</div>"
      ],
      "text/plain": [
       "                                           Job Title  \\\n",
       "0                             Senior Data Analyst II   \n",
       "1                               Project Data Analyst   \n",
       "2                     Data Analyst, Business Analyst   \n",
       "3                                       Data Analyst   \n",
       "4                           Executive - Data Analyst   \n",
       "5                                       Data Analyst   \n",
       "6  Data Analyst / Product Analyst / Business Analyst   \n",
       "7        Senior Data Analyst - Data Modeling/Quality   \n",
       "8                                Senior Data Analyst   \n",
       "9                                  Sr . Data Analyst   \n",
       "\n",
       "                                        Job Location  \\\n",
       "0                                Bangalore/Bengaluru   \n",
       "1                                Bangalore/Bengaluru   \n",
       "2                 Bangalore/Bengaluru(HSR Layout +1)   \n",
       "3                    Temp. WFH - Bangalore/Bengaluru   \n",
       "4                                Bangalore/Bengaluru   \n",
       "5                                Bangalore/Bengaluru   \n",
       "6                   Bangalore/Bengaluru, Delhi / NCR   \n",
       "7                                Bangalore/Bengaluru   \n",
       "8  Bangalore/Bengaluru, Kolkata, Hyderabad/Secund...   \n",
       "9                                Bangalore/Bengaluru   \n",
       "\n",
       "                         Company Name Experience Required  \n",
       "0                            Flipkart             2-4 Yrs  \n",
       "1                                 WSP             0-4 Yrs  \n",
       "2  Clinilaunch Research Institute Llp             0-5 Yrs  \n",
       "3                       Treebo Hotels             1-5 Yrs  \n",
       "4                            Flipkart             1-5 Yrs  \n",
       "5                             Cargill             2-4 Yrs  \n",
       "6                            Benchire             2-5 Yrs  \n",
       "7                      Get My Parking             4-9 Yrs  \n",
       "8     Yallas Technology Solutions Opc             2-7 Yrs  \n",
       "9                      Aidash Systems             3-8 Yrs  "
      ]
     },
     "execution_count": 30,
     "metadata": {},
     "output_type": "execute_result"
    }
   ],
   "source": [
    "# making dataframe\n",
    "df = pd.DataFrame({'Job Title':job_title,'Job Location':job_location,'Company Name':company_name,'Experience Required':experience_required})\n",
    "df"
   ]
  },
  {
   "cell_type": "markdown",
   "id": "6536ad0d",
   "metadata": {},
   "source": [
    "# Data Scientist Job Data"
   ]
  },
  {
   "cell_type": "code",
   "execution_count": 31,
   "id": "843d801c",
   "metadata": {},
   "outputs": [],
   "source": [
    "# Importing required libraries\n",
    "import selenium\n",
    "import pandas as pd  # it will use to make dataframe\n",
    "from selenium import webdriver  # it is because we need to connect to webdriver\n",
    "from selenium.webdriver.common.by import By  # it will help to connect to the webdriver\n",
    "import warnings\n",
    "warnings.filterwarnings('ignore')  # this will ignore all the unnecessary warnings\n",
    "import time"
   ]
  },
  {
   "cell_type": "code",
   "execution_count": 32,
   "id": "1b17596c",
   "metadata": {},
   "outputs": [],
   "source": [
    "# connecting to the webdriver\n",
    "driver = webdriver.Chrome(r'C:\\Users\\sonus\\Downloads\\chromedriver_win32\\chromedriver.exe')\n",
    "\n",
    "# sending link to connect to our desired website into the automated web browser\n",
    "driver.get('https://www.naukri.com/')"
   ]
  },
  {
   "cell_type": "code",
   "execution_count": 33,
   "id": "e045fab2",
   "metadata": {},
   "outputs": [],
   "source": [
    "# inserting designation and location as required\n",
    "# finding the designation element\n",
    "designation = driver.find_element(By.CLASS_NAME,'suggestor-input')\n",
    "designation.send_keys('Data Scientist')  # sending Data Scientist to enter in designation field"
   ]
  },
  {
   "cell_type": "code",
   "execution_count": 34,
   "id": "226cb3b8",
   "metadata": {},
   "outputs": [],
   "source": [
    "# finding the location element\n",
    "location = driver.find_element(By.XPATH,'/html/body/div[1]/div[6]/div/div/div[5]/div/div/div/input')\n",
    "location.send_keys('Bangalore') # sending Bangalore to enter in location field"
   ]
  },
  {
   "cell_type": "code",
   "execution_count": 35,
   "id": "ee1f6ba8",
   "metadata": {},
   "outputs": [],
   "source": [
    "# finding search \n",
    "search = driver.find_element(By.CLASS_NAME,'qsbSubmit')\n",
    "search.click() # clicking the search"
   ]
  },
  {
   "cell_type": "code",
   "execution_count": 36,
   "id": "b03572ac",
   "metadata": {},
   "outputs": [],
   "source": [
    "# making different lists to store data in it\n",
    "job_title = []\n",
    "job_location = []\n",
    "company_name = []"
   ]
  },
  {
   "cell_type": "code",
   "execution_count": 39,
   "id": "d3fa2239",
   "metadata": {},
   "outputs": [],
   "source": [
    "# scrapping job title\n",
    "tit = driver.find_elements(By.XPATH,'//a[@class=\"title fw500 ellipsis\"]')  # finding all the job titles\n",
    "for i in tit[0:10]:  # gettig only first 10 job titles\n",
    "    job_title.append(i.text)  # appending titles in the list\n",
    "    \n",
    "# scrapping job location\n",
    "location = driver.find_elements(By.XPATH,'//span[@class=\"ellipsis fleft fs12 lh16 locWdth\"]') # finding all the location\n",
    "for i in location[0:10]: # getting only first 10 job location respectively\n",
    "    job_location.append(i.text) # appending these location in list\n",
    "    \n",
    "# Scraping company name\n",
    "company = driver.find_elements(By.XPATH,'//a[@class=\"subTitle ellipsis fleft\"]') # finding all the company name\n",
    "for i in company[0:10]: # getting only first 10 company name respectively\n",
    "    company_name.append(i.text)  # appending them in list"
   ]
  },
  {
   "cell_type": "code",
   "execution_count": 40,
   "id": "aa1dd37d",
   "metadata": {},
   "outputs": [
    {
     "data": {
      "text/plain": [
       "(10, 10, 10)"
      ]
     },
     "execution_count": 40,
     "metadata": {},
     "output_type": "execute_result"
    }
   ],
   "source": [
    "# Getting length of data collected\n",
    "len(job_title),len(job_location),len(company_name)"
   ]
  },
  {
   "cell_type": "code",
   "execution_count": 41,
   "id": "426edf54",
   "metadata": {},
   "outputs": [
    {
     "data": {
      "text/html": [
       "<div>\n",
       "<style scoped>\n",
       "    .dataframe tbody tr th:only-of-type {\n",
       "        vertical-align: middle;\n",
       "    }\n",
       "\n",
       "    .dataframe tbody tr th {\n",
       "        vertical-align: top;\n",
       "    }\n",
       "\n",
       "    .dataframe thead th {\n",
       "        text-align: right;\n",
       "    }\n",
       "</style>\n",
       "<table border=\"1\" class=\"dataframe\">\n",
       "  <thead>\n",
       "    <tr style=\"text-align: right;\">\n",
       "      <th></th>\n",
       "      <th>Job Title</th>\n",
       "      <th>Job Location</th>\n",
       "      <th>Company Name</th>\n",
       "    </tr>\n",
       "  </thead>\n",
       "  <tbody>\n",
       "    <tr>\n",
       "      <th>0</th>\n",
       "      <td>Analystics &amp; Modeling Specialist</td>\n",
       "      <td>Bangalore/Bengaluru, Kolkata, Mumbai, Hyderaba...</td>\n",
       "      <td>Accenture</td>\n",
       "    </tr>\n",
       "    <tr>\n",
       "      <th>1</th>\n",
       "      <td>Data Scientist</td>\n",
       "      <td>Bangalore/Bengaluru, New Delhi, Hyderabad/Secu...</td>\n",
       "      <td>Tata Nexarc</td>\n",
       "    </tr>\n",
       "    <tr>\n",
       "      <th>2</th>\n",
       "      <td>Data Scientist</td>\n",
       "      <td>Bangalore/Bengaluru, Nagpur, Pune</td>\n",
       "      <td>Tech Mahindra</td>\n",
       "    </tr>\n",
       "    <tr>\n",
       "      <th>3</th>\n",
       "      <td>Data Scientist</td>\n",
       "      <td>Hybrid - Bangalore/Bengaluru, Noida, Kolkata, ...</td>\n",
       "      <td>Mindtree Limited</td>\n",
       "    </tr>\n",
       "    <tr>\n",
       "      <th>4</th>\n",
       "      <td>Data Scientist - II</td>\n",
       "      <td>Bangalore/Bengaluru, India, Mumbai (All Areas)</td>\n",
       "      <td>Bizongo</td>\n",
       "    </tr>\n",
       "    <tr>\n",
       "      <th>5</th>\n",
       "      <td>Python Programming Language Data Science Pract...</td>\n",
       "      <td>Bangalore/Bengaluru</td>\n",
       "      <td>Accenture</td>\n",
       "    </tr>\n",
       "    <tr>\n",
       "      <th>6</th>\n",
       "      <td>ACN - Applied Intelligence - C4DI - Sustainabi...</td>\n",
       "      <td>Bangalore/Bengaluru</td>\n",
       "      <td>Accenture</td>\n",
       "    </tr>\n",
       "    <tr>\n",
       "      <th>7</th>\n",
       "      <td>Data Scientist - Supply Chain</td>\n",
       "      <td>Bangalore/Bengaluru</td>\n",
       "      <td>Cargill</td>\n",
       "    </tr>\n",
       "    <tr>\n",
       "      <th>8</th>\n",
       "      <td>Data Science Lead - Forecasting</td>\n",
       "      <td>Bangalore/Bengaluru</td>\n",
       "      <td>Cargill</td>\n",
       "    </tr>\n",
       "    <tr>\n",
       "      <th>9</th>\n",
       "      <td>Senior Data Scientist</td>\n",
       "      <td>Bangalore/Bengaluru</td>\n",
       "      <td>Cargill</td>\n",
       "    </tr>\n",
       "  </tbody>\n",
       "</table>\n",
       "</div>"
      ],
      "text/plain": [
       "                                           Job Title  \\\n",
       "0                   Analystics & Modeling Specialist   \n",
       "1                                     Data Scientist   \n",
       "2                                     Data Scientist   \n",
       "3                                     Data Scientist   \n",
       "4                                Data Scientist - II   \n",
       "5  Python Programming Language Data Science Pract...   \n",
       "6  ACN - Applied Intelligence - C4DI - Sustainabi...   \n",
       "7                      Data Scientist - Supply Chain   \n",
       "8                    Data Science Lead - Forecasting   \n",
       "9                              Senior Data Scientist   \n",
       "\n",
       "                                        Job Location      Company Name  \n",
       "0  Bangalore/Bengaluru, Kolkata, Mumbai, Hyderaba...         Accenture  \n",
       "1  Bangalore/Bengaluru, New Delhi, Hyderabad/Secu...       Tata Nexarc  \n",
       "2                  Bangalore/Bengaluru, Nagpur, Pune     Tech Mahindra  \n",
       "3  Hybrid - Bangalore/Bengaluru, Noida, Kolkata, ...  Mindtree Limited  \n",
       "4     Bangalore/Bengaluru, India, Mumbai (All Areas)           Bizongo  \n",
       "5                                Bangalore/Bengaluru         Accenture  \n",
       "6                                Bangalore/Bengaluru         Accenture  \n",
       "7                                Bangalore/Bengaluru           Cargill  \n",
       "8                                Bangalore/Bengaluru           Cargill  \n",
       "9                                Bangalore/Bengaluru           Cargill  "
      ]
     },
     "execution_count": 41,
     "metadata": {},
     "output_type": "execute_result"
    }
   ],
   "source": [
    "# making dataframe\n",
    "df = pd.DataFrame({'Job Title':job_title,'Job Location':job_location,'Company Name':company_name})\n",
    "df"
   ]
  },
  {
   "cell_type": "markdown",
   "id": "761c8170",
   "metadata": {},
   "source": [
    "# Web Scraping by applying filters"
   ]
  },
  {
   "cell_type": "code",
   "execution_count": 19,
   "id": "ff297cc6",
   "metadata": {},
   "outputs": [],
   "source": [
    "# importing required libraries\n",
    "import selenium       # this will help to do scraping\n",
    "from selenium import webdriver  # this is because we need to connect to the webdriver\n",
    "from selenium.webdriver.common.by import By  # this will help to connect to the webdriver\n",
    "import pandas as pd  # this will use to make dataframe\n",
    "import warnings  \n",
    "warnings.filterwarnings('ignore')  # this will ignore all unnecessary warnings"
   ]
  },
  {
   "cell_type": "code",
   "execution_count": 20,
   "id": "d9ca2470",
   "metadata": {},
   "outputs": [],
   "source": [
    "# connecting to the webdriver\n",
    "driver = webdriver.Chrome(r\"C:\\Users\\sonus\\Downloads\\chromedriver_win32\\chromedriver.exe\")"
   ]
  },
  {
   "cell_type": "code",
   "execution_count": 21,
   "id": "c9504996",
   "metadata": {},
   "outputs": [],
   "source": [
    "# sending url to the webdriver\n",
    "driver.get('https://www.naukri.com/')"
   ]
  },
  {
   "cell_type": "code",
   "execution_count": 22,
   "id": "cf505f73",
   "metadata": {},
   "outputs": [],
   "source": [
    "# inserting designation as required\n",
    "designation = driver.find_element(By.CLASS_NAME,'suggestor-input ')\n",
    "# sending key to insert to the designation\n",
    "designation.send_keys('Data Scientist')"
   ]
  },
  {
   "cell_type": "code",
   "execution_count": 23,
   "id": "cddef481",
   "metadata": {},
   "outputs": [],
   "source": [
    "# finding search button and click it\n",
    "search = driver.find_element(By.CLASS_NAME,'qsbSubmit')\n",
    "search.click()"
   ]
  },
  {
   "cell_type": "code",
   "execution_count": 24,
   "id": "0cd2450a",
   "metadata": {},
   "outputs": [],
   "source": [
    "# getting location filter and check it\n",
    "location = driver.find_element(By.XPATH,'/html/body/div[1]/div[4]/div/div/section[1]/div[2]/div[5]/div[2]/div[2]/label/i')\n",
    "location.click()"
   ]
  },
  {
   "cell_type": "code",
   "execution_count": 25,
   "id": "fa50d9a9",
   "metadata": {},
   "outputs": [],
   "source": [
    "# getting salary filter and check it\n",
    "salary = driver.find_element(By.XPATH,'/html/body/div[1]/div[4]/div/div/section[1]/div[2]/div[6]/div[2]/div[2]/label/i')\n",
    "salary.click()"
   ]
  },
  {
   "cell_type": "code",
   "execution_count": 26,
   "id": "1926127f",
   "metadata": {},
   "outputs": [],
   "source": [
    "# making lists for different data\n",
    "job_title = []\n",
    "job_location = []\n",
    "company = []\n",
    "experience = []"
   ]
  },
  {
   "cell_type": "code",
   "execution_count": 27,
   "id": "39e9df7b",
   "metadata": {},
   "outputs": [],
   "source": [
    "# getting job title\n",
    "title = driver.find_elements(By.XPATH,'//a[@class=\"title fw500 ellipsis\"]')\n",
    "for i in title[0:10]:   # getting only first 10 elements\n",
    "    job_title.append(i.text)  # appending them in list\n",
    "    \n",
    "# getting job location\n",
    "loc = driver.find_elements(By.XPATH,'//span[@class=\"ellipsis fleft fs12 lh16 locWdth\"]')\n",
    "for i in loc[0:10]:\n",
    "    job_location.append(i.text)\n",
    "    \n",
    "# getting company name\n",
    "comp = driver.find_elements(By.XPATH,'//a[@class=\"subTitle ellipsis fleft\"]')\n",
    "for i in comp[0:10]:\n",
    "    company.append(i.text)\n",
    "    \n",
    "# getting experience required\n",
    "exp = driver.find_elements(By.XPATH,'//span[@class=\"ellipsis fleft fs12 lh16 expwdth\"]')\n",
    "for i in exp[0:10]:\n",
    "    experience.append(i.text)"
   ]
  },
  {
   "cell_type": "code",
   "execution_count": 28,
   "id": "99358de4",
   "metadata": {},
   "outputs": [
    {
     "data": {
      "text/plain": [
       "(10, 10, 10, 10)"
      ]
     },
     "execution_count": 28,
     "metadata": {},
     "output_type": "execute_result"
    }
   ],
   "source": [
    "# getting length of every data collected\n",
    "len(job_title),len(job_location),len(company),len(experience)"
   ]
  },
  {
   "cell_type": "code",
   "execution_count": 29,
   "id": "52be3e1f",
   "metadata": {},
   "outputs": [
    {
     "data": {
      "text/html": [
       "<div>\n",
       "<style scoped>\n",
       "    .dataframe tbody tr th:only-of-type {\n",
       "        vertical-align: middle;\n",
       "    }\n",
       "\n",
       "    .dataframe tbody tr th {\n",
       "        vertical-align: top;\n",
       "    }\n",
       "\n",
       "    .dataframe thead th {\n",
       "        text-align: right;\n",
       "    }\n",
       "</style>\n",
       "<table border=\"1\" class=\"dataframe\">\n",
       "  <thead>\n",
       "    <tr style=\"text-align: right;\">\n",
       "      <th></th>\n",
       "      <th>Job Title</th>\n",
       "      <th>Job Location</th>\n",
       "      <th>Company Name</th>\n",
       "      <th>Experience Required</th>\n",
       "    </tr>\n",
       "  </thead>\n",
       "  <tbody>\n",
       "    <tr>\n",
       "      <th>0</th>\n",
       "      <td>Artificial Intelligence/Computer Vision Engine...</td>\n",
       "      <td>Delhi / NCR, Kolkata, Mumbai, Hyderabad/Secund...</td>\n",
       "      <td>Vicara</td>\n",
       "      <td>1-3 Yrs</td>\n",
       "    </tr>\n",
       "    <tr>\n",
       "      <th>1</th>\n",
       "      <td>Data Activation Specialist - Adobe Target</td>\n",
       "      <td>Delhi / NCR, Kolkata, Mumbai, Hyderabad/Secund...</td>\n",
       "      <td>Okda Solutions</td>\n",
       "      <td>7-10 Yrs</td>\n",
       "    </tr>\n",
       "    <tr>\n",
       "      <th>2</th>\n",
       "      <td>Data Scientist - Engine Algorithm</td>\n",
       "      <td>Delhi / NCR, Kolkata, Mumbai, Hyderabad/Secund...</td>\n",
       "      <td>Primo Hiring</td>\n",
       "      <td>1-3 Yrs</td>\n",
       "    </tr>\n",
       "    <tr>\n",
       "      <th>3</th>\n",
       "      <td>Opening For Jr. Data Scientist with Tatras Dat...</td>\n",
       "      <td>Delhi / NCR</td>\n",
       "      <td>Tatras Data Services</td>\n",
       "      <td>2-4 Yrs</td>\n",
       "    </tr>\n",
       "    <tr>\n",
       "      <th>4</th>\n",
       "      <td>Data Scientist</td>\n",
       "      <td>Gurgaon/Gurugram</td>\n",
       "      <td>Americana Restaurants (india)</td>\n",
       "      <td>3-8 Yrs</td>\n",
       "    </tr>\n",
       "    <tr>\n",
       "      <th>5</th>\n",
       "      <td>SE/SSE-Data Scientist</td>\n",
       "      <td>Delhi / NCR</td>\n",
       "      <td>Bold Technology Systems</td>\n",
       "      <td>3-8 Yrs</td>\n",
       "    </tr>\n",
       "    <tr>\n",
       "      <th>6</th>\n",
       "      <td>Data Scientist</td>\n",
       "      <td>Dehradun, Hyderabad/Secunderabad, Gurgaon/Guru...</td>\n",
       "      <td>torcai digital media</td>\n",
       "      <td>2-7 Yrs</td>\n",
       "    </tr>\n",
       "    <tr>\n",
       "      <th>7</th>\n",
       "      <td>URGENT: Data Scientist | Gurugram | 5 Days Wor...</td>\n",
       "      <td>Gurgaon/Gurugram</td>\n",
       "      <td>Digilytics</td>\n",
       "      <td>2-5 Yrs</td>\n",
       "    </tr>\n",
       "    <tr>\n",
       "      <th>8</th>\n",
       "      <td>Data Scientist</td>\n",
       "      <td>Noida</td>\n",
       "      <td>Alliance Recruitment Agency</td>\n",
       "      <td>3-4 Yrs</td>\n",
       "    </tr>\n",
       "    <tr>\n",
       "      <th>9</th>\n",
       "      <td>Jr. Data Scientist</td>\n",
       "      <td>Noida</td>\n",
       "      <td>Dataflow</td>\n",
       "      <td>1-3 Yrs</td>\n",
       "    </tr>\n",
       "  </tbody>\n",
       "</table>\n",
       "</div>"
      ],
      "text/plain": [
       "                                           Job Title  \\\n",
       "0  Artificial Intelligence/Computer Vision Engine...   \n",
       "1          Data Activation Specialist - Adobe Target   \n",
       "2                  Data Scientist - Engine Algorithm   \n",
       "3  Opening For Jr. Data Scientist with Tatras Dat...   \n",
       "4                                     Data Scientist   \n",
       "5                              SE/SSE-Data Scientist   \n",
       "6                                     Data Scientist   \n",
       "7  URGENT: Data Scientist | Gurugram | 5 Days Wor...   \n",
       "8                                     Data Scientist   \n",
       "9                                 Jr. Data Scientist   \n",
       "\n",
       "                                        Job Location  \\\n",
       "0  Delhi / NCR, Kolkata, Mumbai, Hyderabad/Secund...   \n",
       "1  Delhi / NCR, Kolkata, Mumbai, Hyderabad/Secund...   \n",
       "2  Delhi / NCR, Kolkata, Mumbai, Hyderabad/Secund...   \n",
       "3                                        Delhi / NCR   \n",
       "4                                   Gurgaon/Gurugram   \n",
       "5                                        Delhi / NCR   \n",
       "6  Dehradun, Hyderabad/Secunderabad, Gurgaon/Guru...   \n",
       "7                                   Gurgaon/Gurugram   \n",
       "8                                              Noida   \n",
       "9                                              Noida   \n",
       "\n",
       "                    Company Name Experience Required  \n",
       "0                         Vicara             1-3 Yrs  \n",
       "1                 Okda Solutions            7-10 Yrs  \n",
       "2                   Primo Hiring             1-3 Yrs  \n",
       "3           Tatras Data Services             2-4 Yrs  \n",
       "4  Americana Restaurants (india)             3-8 Yrs  \n",
       "5        Bold Technology Systems             3-8 Yrs  \n",
       "6           torcai digital media             2-7 Yrs  \n",
       "7                     Digilytics             2-5 Yrs  \n",
       "8    Alliance Recruitment Agency             3-4 Yrs  \n",
       "9                       Dataflow             1-3 Yrs  "
      ]
     },
     "execution_count": 29,
     "metadata": {},
     "output_type": "execute_result"
    }
   ],
   "source": [
    "# making dataframe\n",
    "df = pd.DataFrame({'Job Title':job_title,'Job Location':job_location,'Company Name':company,'Experience Required':experience})\n",
    "df"
   ]
  },
  {
   "cell_type": "markdown",
   "id": "66d8afaa",
   "metadata": {},
   "source": [
    "# Sunglasses data"
   ]
  },
  {
   "cell_type": "code",
   "execution_count": 1,
   "id": "96e485ab",
   "metadata": {},
   "outputs": [],
   "source": [
    "# importing required libraries\n",
    "import selenium  # for web scraping\n",
    "from selenium import webdriver  # We need to connect to the webdriver\n",
    "from selenium.webdriver.common.by import By  # this will help to connect to the web driver\n",
    "import pandas as pd   # this will help to make dataframe\n",
    "import warnings\n",
    "warnings.filterwarnings('ignore')   # this will ignore all the unnecessary warnings\n",
    "import time"
   ]
  },
  {
   "cell_type": "code",
   "execution_count": 2,
   "id": "9c8a6030",
   "metadata": {},
   "outputs": [],
   "source": [
    "# connecting to the webdriver\n",
    "driver = webdriver.Chrome(r\"C:\\Users\\sonus\\Downloads\\chromedriver_win32\\chromedriver.exe\")"
   ]
  },
  {
   "cell_type": "code",
   "execution_count": 3,
   "id": "e4b06515",
   "metadata": {},
   "outputs": [],
   "source": [
    "# sending url to the webdriver\n",
    "driver.get('https://www.flipkart.com/')"
   ]
  },
  {
   "cell_type": "code",
   "execution_count": 4,
   "id": "86a2bc5e",
   "metadata": {},
   "outputs": [],
   "source": [
    "# finding and sending key to search\n",
    "search = driver.find_element(By.CLASS_NAME,'_3704LK')\n",
    "search.send_keys('sunglasses')"
   ]
  },
  {
   "cell_type": "code",
   "execution_count": 5,
   "id": "a88a4b72",
   "metadata": {},
   "outputs": [],
   "source": [
    "# clicking the search button\n",
    "button = driver.find_element(By.XPATH,'/html/body/div[1]/div/div[1]/div[1]/div[2]/div[2]/form/div/button')\n",
    "button.click()"
   ]
  },
  {
   "cell_type": "code",
   "execution_count": 6,
   "id": "f4526e13",
   "metadata": {},
   "outputs": [],
   "source": [
    "# making lists for different data\n",
    "brand_name = []\n",
    "product_description = []\n",
    "price = []"
   ]
  },
  {
   "cell_type": "code",
   "execution_count": 7,
   "id": "e074edba",
   "metadata": {},
   "outputs": [],
   "source": [
    "# getting brand name\n",
    "for page in range(3):  # we need to scrap more than one page data\n",
    "    # Getting brand name\n",
    "    brand = driver.find_elements(By.XPATH,'//div[@class=\"_2WkVRV\"]')\n",
    "    for i in brand[0:100]:  # getting first 100 brand name\n",
    "        brand_name.append(i.text)\n",
    "        \n",
    "    # getting product description\n",
    "    p_dis = driver.find_elements(By.XPATH,'//a[@class=\"IRpwTa\"]')\n",
    "    for i in p_dis[0:100]: \n",
    "        product_description.append(i.text)\n",
    "        \n",
    "    # getting price\n",
    "    p = driver.find_elements(By.XPATH,'//div[@class=\"_30jeq3\"]')\n",
    "    for i in p[0:100]:\n",
    "        price.append(i.text)\n",
    "        \n",
    "     # we need to click next button to scrap data from next pages\n",
    "    next_b = driver.find_element(By.XPATH,'//a[@class=\"_1LKTO3\"]')\n",
    "    next_b.click()\n",
    "    time.sleep(4)"
   ]
  },
  {
   "cell_type": "code",
   "execution_count": 8,
   "id": "6c165014",
   "metadata": {},
   "outputs": [
    {
     "data": {
      "text/plain": [
       "(120, 120, 120)"
      ]
     },
     "execution_count": 8,
     "metadata": {},
     "output_type": "execute_result"
    }
   ],
   "source": [
    "# getting length of data collected\n",
    "len(brand_name),len(product_description),len(price)"
   ]
  },
  {
   "cell_type": "code",
   "execution_count": 9,
   "id": "6e65680b",
   "metadata": {},
   "outputs": [],
   "source": [
    "# Getting only desired length of data\n",
    "brand = brand_name[:100]\n",
    "description = product_description[:100]\n",
    "pr = price[:100]"
   ]
  },
  {
   "cell_type": "code",
   "execution_count": 10,
   "id": "b5625c13",
   "metadata": {},
   "outputs": [
    {
     "data": {
      "text/plain": [
       "(100, 100, 100)"
      ]
     },
     "execution_count": 10,
     "metadata": {},
     "output_type": "execute_result"
    }
   ],
   "source": [
    "# seeing length of data\n",
    "len(brand),len(description),len(pr)"
   ]
  },
  {
   "cell_type": "code",
   "execution_count": 11,
   "id": "fdcd9778",
   "metadata": {},
   "outputs": [
    {
     "data": {
      "text/html": [
       "<div>\n",
       "<style scoped>\n",
       "    .dataframe tbody tr th:only-of-type {\n",
       "        vertical-align: middle;\n",
       "    }\n",
       "\n",
       "    .dataframe tbody tr th {\n",
       "        vertical-align: top;\n",
       "    }\n",
       "\n",
       "    .dataframe thead th {\n",
       "        text-align: right;\n",
       "    }\n",
       "</style>\n",
       "<table border=\"1\" class=\"dataframe\">\n",
       "  <thead>\n",
       "    <tr style=\"text-align: right;\">\n",
       "      <th></th>\n",
       "      <th>Brand Name</th>\n",
       "      <th>Product Description</th>\n",
       "      <th>Price</th>\n",
       "    </tr>\n",
       "  </thead>\n",
       "  <tbody>\n",
       "    <tr>\n",
       "      <th>0</th>\n",
       "      <td>VINCENT CHASE</td>\n",
       "      <td>by Lenskart Polarized, UV Protection Cat-eye S...</td>\n",
       "      <td>₹806</td>\n",
       "    </tr>\n",
       "    <tr>\n",
       "      <th>1</th>\n",
       "      <td>VINCENT CHASE</td>\n",
       "      <td>by Lenskart Polarized, UV Protection Rectangul...</td>\n",
       "      <td>₹849</td>\n",
       "    </tr>\n",
       "    <tr>\n",
       "      <th>2</th>\n",
       "      <td>LIZA ANGEL</td>\n",
       "      <td>Riding Glasses, Night Vision Spectacle Sunglas...</td>\n",
       "      <td>₹129</td>\n",
       "    </tr>\n",
       "    <tr>\n",
       "      <th>3</th>\n",
       "      <td>Fastrack</td>\n",
       "      <td>UV Protection Rectangular Sunglasses (Free Size)</td>\n",
       "      <td>₹489</td>\n",
       "    </tr>\n",
       "    <tr>\n",
       "      <th>4</th>\n",
       "      <td>Elligator</td>\n",
       "      <td>UV Protection Cat-eye, Retro Square, Oval, Rou...</td>\n",
       "      <td>₹129</td>\n",
       "    </tr>\n",
       "    <tr>\n",
       "      <th>...</th>\n",
       "      <td>...</td>\n",
       "      <td>...</td>\n",
       "      <td>...</td>\n",
       "    </tr>\n",
       "    <tr>\n",
       "      <th>95</th>\n",
       "      <td>Elligator</td>\n",
       "      <td>UV Protection Round Sunglasses (54)</td>\n",
       "      <td>₹286</td>\n",
       "    </tr>\n",
       "    <tr>\n",
       "      <th>96</th>\n",
       "      <td>VINCENT CHASE</td>\n",
       "      <td>by Lenskart Polarized, UV Protection Wayfarer ...</td>\n",
       "      <td>₹701</td>\n",
       "    </tr>\n",
       "    <tr>\n",
       "      <th>97</th>\n",
       "      <td>Fair-x</td>\n",
       "      <td>Mirrored, Riding Glasses, UV Protection Sports...</td>\n",
       "      <td>₹449</td>\n",
       "    </tr>\n",
       "    <tr>\n",
       "      <th>98</th>\n",
       "      <td>LIZA ANGEL</td>\n",
       "      <td>UV Protection, Polarized Rectangular Sunglasse...</td>\n",
       "      <td>₹129</td>\n",
       "    </tr>\n",
       "    <tr>\n",
       "      <th>99</th>\n",
       "      <td>New Specs</td>\n",
       "      <td>UV Protection Rectangular Sunglasses (Free Size)</td>\n",
       "      <td>₹259</td>\n",
       "    </tr>\n",
       "  </tbody>\n",
       "</table>\n",
       "<p>100 rows × 3 columns</p>\n",
       "</div>"
      ],
      "text/plain": [
       "       Brand Name                                Product Description Price\n",
       "0   VINCENT CHASE  by Lenskart Polarized, UV Protection Cat-eye S...  ₹806\n",
       "1   VINCENT CHASE  by Lenskart Polarized, UV Protection Rectangul...  ₹849\n",
       "2      LIZA ANGEL  Riding Glasses, Night Vision Spectacle Sunglas...  ₹129\n",
       "3        Fastrack   UV Protection Rectangular Sunglasses (Free Size)  ₹489\n",
       "4       Elligator  UV Protection Cat-eye, Retro Square, Oval, Rou...  ₹129\n",
       "..            ...                                                ...   ...\n",
       "95      Elligator                UV Protection Round Sunglasses (54)  ₹286\n",
       "96  VINCENT CHASE  by Lenskart Polarized, UV Protection Wayfarer ...  ₹701\n",
       "97         Fair-x  Mirrored, Riding Glasses, UV Protection Sports...  ₹449\n",
       "98     LIZA ANGEL  UV Protection, Polarized Rectangular Sunglasse...  ₹129\n",
       "99      New Specs   UV Protection Rectangular Sunglasses (Free Size)  ₹259\n",
       "\n",
       "[100 rows x 3 columns]"
      ]
     },
     "execution_count": 11,
     "metadata": {},
     "output_type": "execute_result"
    }
   ],
   "source": [
    "# making dataframe\n",
    "df = pd.DataFrame({'Brand Name':brand,'Product Description':description,'Price':pr})\n",
    "df"
   ]
  },
  {
   "cell_type": "markdown",
   "id": "f8a78ff0",
   "metadata": {},
   "source": [
    "# Reviews of Iphone 11"
   ]
  },
  {
   "cell_type": "code",
   "execution_count": 13,
   "id": "6e09059b",
   "metadata": {},
   "outputs": [],
   "source": [
    "# importing required libraries\n",
    "import selenium\n",
    "from selenium import webdriver\n",
    "from selenium.webdriver.common.by import By\n",
    "import pandas as pd\n",
    "import warnings\n",
    "warnings.filterwarnings('ignore')\n",
    "import time"
   ]
  },
  {
   "cell_type": "code",
   "execution_count": 14,
   "id": "0e4aae25",
   "metadata": {},
   "outputs": [],
   "source": [
    "# connecting to the webdriver\n",
    "driver = webdriver.Chrome(r'\"C:\\Users\\sonus\\Downloads\\chromedriver_win32\\chromedriver.exe\"')"
   ]
  },
  {
   "cell_type": "code",
   "execution_count": 15,
   "id": "32349ebe",
   "metadata": {},
   "outputs": [],
   "source": [
    "# sending url to the webdriver\n",
    "driver.get('https://www.flipkart.com/apple-iphone-11-black-64-gb/product-reviews/itm4e5041ba101fd?pid=MOBFWQ6BXGJCEYNY&lid=LSTMOBFWQ6BXGJCEYNYZXSHRJ&marketplace=FLIPKART')"
   ]
  },
  {
   "cell_type": "code",
   "execution_count": 16,
   "id": "4919e93e",
   "metadata": {},
   "outputs": [],
   "source": [
    "# Making lists for different data\n",
    "rat = []\n",
    "summ = []\n",
    "full = []"
   ]
  },
  {
   "cell_type": "code",
   "execution_count": 17,
   "id": "7c642825",
   "metadata": {},
   "outputs": [],
   "source": [
    "# We have to collect 10 page data so we have to go next 10 pages to collect all data\n",
    "for page in range(10):\n",
    "    # getting ratings\n",
    "    ra = driver.find_elements(By.XPATH,'//div[@class=\"_3LWZlK _1BLPMq\"]')\n",
    "    for i in ra[:100]:\n",
    "        rat.append(i.text)\n",
    "        \n",
    "    # getting review summary\n",
    "    su = driver.find_elements(By.XPATH,'//p[@class=\"_2-N8zT\"]')\n",
    "    for i in su[:100]:\n",
    "        summ.append(i.text)\n",
    "        \n",
    "    # getting full review\n",
    "    re = driver.find_elements(By.XPATH,'//div[@class=\"t-ZTKy\"]')\n",
    "    for i in re[:100]:\n",
    "        full.append(i.text)\n",
    "        \n",
    "    # finding and clicking on next button \n",
    "    next_but = driver.find_element(By.XPATH,'//a[@class=\"_1LKTO3\"]')\n",
    "    next_but.click()\n",
    "    time.sleep(11)"
   ]
  },
  {
   "cell_type": "code",
   "execution_count": 18,
   "id": "1768592d",
   "metadata": {},
   "outputs": [
    {
     "data": {
      "text/plain": [
       "(100, 100, 100)"
      ]
     },
     "execution_count": 18,
     "metadata": {},
     "output_type": "execute_result"
    }
   ],
   "source": [
    "# getting length of collected data\n",
    "len(rat),len(summ),len(full)"
   ]
  },
  {
   "cell_type": "code",
   "execution_count": 19,
   "id": "5611c1d5",
   "metadata": {},
   "outputs": [
    {
     "data": {
      "text/html": [
       "<div>\n",
       "<style scoped>\n",
       "    .dataframe tbody tr th:only-of-type {\n",
       "        vertical-align: middle;\n",
       "    }\n",
       "\n",
       "    .dataframe tbody tr th {\n",
       "        vertical-align: top;\n",
       "    }\n",
       "\n",
       "    .dataframe thead th {\n",
       "        text-align: right;\n",
       "    }\n",
       "</style>\n",
       "<table border=\"1\" class=\"dataframe\">\n",
       "  <thead>\n",
       "    <tr style=\"text-align: right;\">\n",
       "      <th></th>\n",
       "      <th>Rating</th>\n",
       "      <th>Review Summary</th>\n",
       "      <th>Full Review</th>\n",
       "    </tr>\n",
       "  </thead>\n",
       "  <tbody>\n",
       "    <tr>\n",
       "      <th>0</th>\n",
       "      <td>5</td>\n",
       "      <td>Simply awesome</td>\n",
       "      <td>Really satisfied with the Product I received.....</td>\n",
       "    </tr>\n",
       "    <tr>\n",
       "      <th>1</th>\n",
       "      <td>5</td>\n",
       "      <td>Perfect product!</td>\n",
       "      <td>Amazing phone with great cameras and better ba...</td>\n",
       "    </tr>\n",
       "    <tr>\n",
       "      <th>2</th>\n",
       "      <td>5</td>\n",
       "      <td>Best in the market!</td>\n",
       "      <td>Great iPhone very snappy experience as apple k...</td>\n",
       "    </tr>\n",
       "    <tr>\n",
       "      <th>3</th>\n",
       "      <td>4</td>\n",
       "      <td>Value-for-money</td>\n",
       "      <td>I'm Really happy with the product\\nDelivery wa...</td>\n",
       "    </tr>\n",
       "    <tr>\n",
       "      <th>4</th>\n",
       "      <td>5</td>\n",
       "      <td>Worth every penny</td>\n",
       "      <td>Previously I was using one plus 3t it was a gr...</td>\n",
       "    </tr>\n",
       "    <tr>\n",
       "      <th>...</th>\n",
       "      <td>...</td>\n",
       "      <td>...</td>\n",
       "      <td>...</td>\n",
       "    </tr>\n",
       "    <tr>\n",
       "      <th>95</th>\n",
       "      <td>5</td>\n",
       "      <td>Highly recommended</td>\n",
       "      <td>It's my first time to use iOS phone and I am l...</td>\n",
       "    </tr>\n",
       "    <tr>\n",
       "      <th>96</th>\n",
       "      <td>5</td>\n",
       "      <td>Highly recommended</td>\n",
       "      <td>What a camera .....just awesome ..you can feel...</td>\n",
       "    </tr>\n",
       "    <tr>\n",
       "      <th>97</th>\n",
       "      <td>5</td>\n",
       "      <td>Perfect product!</td>\n",
       "      <td>Value for money\\n5 star rating\\nExcellent came...</td>\n",
       "    </tr>\n",
       "    <tr>\n",
       "      <th>98</th>\n",
       "      <td>5</td>\n",
       "      <td>Great product</td>\n",
       "      <td>Amazing Powerful and Durable Gadget.\\n\\nI’m am...</td>\n",
       "    </tr>\n",
       "    <tr>\n",
       "      <th>99</th>\n",
       "      <td>4</td>\n",
       "      <td>Pretty good</td>\n",
       "      <td>I was using Iphone 6s and also Oneplus 6t. Bot...</td>\n",
       "    </tr>\n",
       "  </tbody>\n",
       "</table>\n",
       "<p>100 rows × 3 columns</p>\n",
       "</div>"
      ],
      "text/plain": [
       "   Rating       Review Summary  \\\n",
       "0       5       Simply awesome   \n",
       "1       5     Perfect product!   \n",
       "2       5  Best in the market!   \n",
       "3       4      Value-for-money   \n",
       "4       5    Worth every penny   \n",
       "..    ...                  ...   \n",
       "95      5   Highly recommended   \n",
       "96      5   Highly recommended   \n",
       "97      5     Perfect product!   \n",
       "98      5        Great product   \n",
       "99      4          Pretty good   \n",
       "\n",
       "                                          Full Review  \n",
       "0   Really satisfied with the Product I received.....  \n",
       "1   Amazing phone with great cameras and better ba...  \n",
       "2   Great iPhone very snappy experience as apple k...  \n",
       "3   I'm Really happy with the product\\nDelivery wa...  \n",
       "4   Previously I was using one plus 3t it was a gr...  \n",
       "..                                                ...  \n",
       "95  It's my first time to use iOS phone and I am l...  \n",
       "96  What a camera .....just awesome ..you can feel...  \n",
       "97  Value for money\\n5 star rating\\nExcellent came...  \n",
       "98  Amazing Powerful and Durable Gadget.\\n\\nI’m am...  \n",
       "99  I was using Iphone 6s and also Oneplus 6t. Bot...  \n",
       "\n",
       "[100 rows x 3 columns]"
      ]
     },
     "execution_count": 19,
     "metadata": {},
     "output_type": "execute_result"
    }
   ],
   "source": [
    "# making Data frame\n",
    "df = pd.DataFrame({'Rating':rat,'Review Summary':summ,'Full Review':full})\n",
    "df"
   ]
  },
  {
   "cell_type": "markdown",
   "id": "1e337b59",
   "metadata": {},
   "source": [
    "# Sneakers Details"
   ]
  },
  {
   "cell_type": "code",
   "execution_count": 28,
   "id": "cff8542d",
   "metadata": {},
   "outputs": [],
   "source": [
    "# importing required libraries\n",
    "import selenium\n",
    "from selenium import webdriver\n",
    "from selenium.webdriver.common.by import By\n",
    "import pandas as pd\n",
    "import warnings\n",
    "warnings.filterwarnings('ignore')\n",
    "import time"
   ]
  },
  {
   "cell_type": "code",
   "execution_count": 29,
   "id": "bc97041b",
   "metadata": {},
   "outputs": [],
   "source": [
    "# connecting to the webdriver\n",
    "driver = webdriver.Chrome(r'\"C:\\Users\\sonus\\Downloads\\chromedriver_win32\\chromedriver.exe\"')"
   ]
  },
  {
   "cell_type": "code",
   "execution_count": 30,
   "id": "6a73c52f",
   "metadata": {},
   "outputs": [],
   "source": [
    "# sending url to the webdriver\n",
    "driver.get('https://www.flipkart.com/')"
   ]
  },
  {
   "cell_type": "code",
   "execution_count": 31,
   "id": "a8c35487",
   "metadata": {},
   "outputs": [],
   "source": [
    "# sending key to search\n",
    "product = driver.find_element(By.CLASS_NAME,'_3704LK')\n",
    "product.send_keys('sneakers')"
   ]
  },
  {
   "cell_type": "code",
   "execution_count": 32,
   "id": "a80e19e5",
   "metadata": {},
   "outputs": [],
   "source": [
    "# finding and clicking search button\n",
    "search = driver.find_element(By.XPATH,'/html/body/div[1]/div/div[1]/div[1]/div[2]/div[2]/form/div/button')\n",
    "search.click()"
   ]
  },
  {
   "cell_type": "code",
   "execution_count": 33,
   "id": "1c5073cb",
   "metadata": {},
   "outputs": [],
   "source": [
    "# making lists for different data\n",
    "brand = []\n",
    "description = []\n",
    "price = []"
   ]
  },
  {
   "cell_type": "code",
   "execution_count": 34,
   "id": "08812d7e",
   "metadata": {},
   "outputs": [],
   "source": [
    "# we have to go next 3 pages to collect 100 data\n",
    "for page in range(3):\n",
    "    # getting brand name\n",
    "    bnd = driver.find_elements(By.XPATH,'//div[@class=\"_2WkVRV\"]')\n",
    "    for i in bnd[:100]:\n",
    "        brand.append(i.text)\n",
    "        \n",
    "    # getting product description\n",
    "    des = driver.find_elements(By.XPATH,'//a[@class=\"IRpwTa\"]')\n",
    "    for i in des[:100]:\n",
    "        description.append(i.text)\n",
    "        \n",
    "    # getting price\n",
    "    pr = driver.find_elements(By.XPATH,'//div[@class=\"_30jeq3\"]')\n",
    "    for i in pr[:100]:\n",
    "        price.append(i.text)\n",
    "        \n",
    "    # finding next button and going to next pages\n",
    "    next_but = driver.find_element(By.XPATH,'//a[@class=\"_1LKTO3\"]')\n",
    "    next_but.click()\n",
    "    time.sleep(4)"
   ]
  },
  {
   "cell_type": "code",
   "execution_count": 35,
   "id": "873c8da1",
   "metadata": {},
   "outputs": [
    {
     "data": {
      "text/plain": [
       "(120, 111, 120)"
      ]
     },
     "execution_count": 35,
     "metadata": {},
     "output_type": "execute_result"
    }
   ],
   "source": [
    "# getting length of collected data\n",
    "len(brand),len(description),len(price)"
   ]
  },
  {
   "cell_type": "code",
   "execution_count": 36,
   "id": "6f90ad54",
   "metadata": {},
   "outputs": [],
   "source": [
    "# getting desired length of data\n",
    "br = brand[:100]\n",
    "desc = description[:100]\n",
    "pr = price[:100]"
   ]
  },
  {
   "cell_type": "code",
   "execution_count": 38,
   "id": "e08ae6ec",
   "metadata": {},
   "outputs": [
    {
     "data": {
      "text/html": [
       "<div>\n",
       "<style scoped>\n",
       "    .dataframe tbody tr th:only-of-type {\n",
       "        vertical-align: middle;\n",
       "    }\n",
       "\n",
       "    .dataframe tbody tr th {\n",
       "        vertical-align: top;\n",
       "    }\n",
       "\n",
       "    .dataframe thead th {\n",
       "        text-align: right;\n",
       "    }\n",
       "</style>\n",
       "<table border=\"1\" class=\"dataframe\">\n",
       "  <thead>\n",
       "    <tr style=\"text-align: right;\">\n",
       "      <th></th>\n",
       "      <th>Brand</th>\n",
       "      <th>Product Description</th>\n",
       "      <th>Price</th>\n",
       "    </tr>\n",
       "  </thead>\n",
       "  <tbody>\n",
       "    <tr>\n",
       "      <th>0</th>\n",
       "      <td>lejano</td>\n",
       "      <td>Sneakers For Men</td>\n",
       "      <td>₹493</td>\n",
       "    </tr>\n",
       "    <tr>\n",
       "      <th>1</th>\n",
       "      <td>RapidBox</td>\n",
       "      <td>RapidBox Men Shoes Sneakers For Men</td>\n",
       "      <td>₹599</td>\n",
       "    </tr>\n",
       "    <tr>\n",
       "      <th>2</th>\n",
       "      <td>Labbin</td>\n",
       "      <td>Sneakers For Men</td>\n",
       "      <td>₹399</td>\n",
       "    </tr>\n",
       "    <tr>\n",
       "      <th>3</th>\n",
       "      <td>SFR</td>\n",
       "      <td>Sneakers For Men</td>\n",
       "      <td>₹299</td>\n",
       "    </tr>\n",
       "    <tr>\n",
       "      <th>4</th>\n",
       "      <td>Shozie</td>\n",
       "      <td>Sneakers For Men</td>\n",
       "      <td>₹299</td>\n",
       "    </tr>\n",
       "    <tr>\n",
       "      <th>...</th>\n",
       "      <td>...</td>\n",
       "      <td>...</td>\n",
       "      <td>...</td>\n",
       "    </tr>\n",
       "    <tr>\n",
       "      <th>95</th>\n",
       "      <td>BRUTON</td>\n",
       "      <td>Modern Trendy Sneakers boot Sneakers Sneakers ...</td>\n",
       "      <td>₹581</td>\n",
       "    </tr>\n",
       "    <tr>\n",
       "      <th>96</th>\n",
       "      <td>JACK &amp; JONES</td>\n",
       "      <td>Future-04 casual shoes for men | Latest Stylis...</td>\n",
       "      <td>₹1,499</td>\n",
       "    </tr>\n",
       "    <tr>\n",
       "      <th>97</th>\n",
       "      <td>PUMA</td>\n",
       "      <td>Sneakers For Men</td>\n",
       "      <td>₹3,839</td>\n",
       "    </tr>\n",
       "    <tr>\n",
       "      <th>98</th>\n",
       "      <td>BRUTON</td>\n",
       "      <td>Sneakers Sneakers For Men</td>\n",
       "      <td>₹299</td>\n",
       "    </tr>\n",
       "    <tr>\n",
       "      <th>99</th>\n",
       "      <td>Kraasa</td>\n",
       "      <td>Rick Point NU Sneakers For Men</td>\n",
       "      <td>₹299</td>\n",
       "    </tr>\n",
       "  </tbody>\n",
       "</table>\n",
       "<p>100 rows × 3 columns</p>\n",
       "</div>"
      ],
      "text/plain": [
       "           Brand                                Product Description   Price\n",
       "0         lejano                                   Sneakers For Men    ₹493\n",
       "1       RapidBox                RapidBox Men Shoes Sneakers For Men    ₹599\n",
       "2         Labbin                                   Sneakers For Men    ₹399\n",
       "3            SFR                                   Sneakers For Men    ₹299\n",
       "4         Shozie                                   Sneakers For Men    ₹299\n",
       "..           ...                                                ...     ...\n",
       "95        BRUTON  Modern Trendy Sneakers boot Sneakers Sneakers ...    ₹581\n",
       "96  JACK & JONES  Future-04 casual shoes for men | Latest Stylis...  ₹1,499\n",
       "97          PUMA                                   Sneakers For Men  ₹3,839\n",
       "98        BRUTON                          Sneakers Sneakers For Men    ₹299\n",
       "99        Kraasa                     Rick Point NU Sneakers For Men    ₹299\n",
       "\n",
       "[100 rows x 3 columns]"
      ]
     },
     "execution_count": 38,
     "metadata": {},
     "output_type": "execute_result"
    }
   ],
   "source": [
    "# Making dataframe\n",
    "df = pd.DataFrame({'Brand':br,'Product Description':desc,'Price':pr})\n",
    "df"
   ]
  },
  {
   "cell_type": "markdown",
   "id": "6fc8b0f2",
   "metadata": {},
   "source": [
    "# Laptop Details"
   ]
  },
  {
   "cell_type": "code",
   "execution_count": 91,
   "id": "d8994786",
   "metadata": {},
   "outputs": [],
   "source": [
    "# importing required libraries\n",
    "import selenium\n",
    "from selenium import webdriver\n",
    "from selenium.webdriver.common.by import By\n",
    "import pandas as pd\n",
    "import warnings\n",
    "warnings.filterwarnings('ignore')"
   ]
  },
  {
   "cell_type": "code",
   "execution_count": 92,
   "id": "aaac1ce6",
   "metadata": {},
   "outputs": [],
   "source": [
    "# Connecting to the webdriver\n",
    "driver = webdriver.Chrome(r\"C:\\Users\\sonus\\Downloads\\chromedriver_win32\\chromedriver.exe\")"
   ]
  },
  {
   "cell_type": "code",
   "execution_count": 93,
   "id": "a28d938f",
   "metadata": {},
   "outputs": [],
   "source": [
    "# sending url to the webdriver\n",
    "driver.get('https://www.amazon.in/')"
   ]
  },
  {
   "cell_type": "code",
   "execution_count": 94,
   "id": "9faae44f",
   "metadata": {},
   "outputs": [],
   "source": [
    "# sending key to search\n",
    "sf = driver.find_element(By.XPATH,'/html/body/div[1]/header/div/div[1]/div[2]/div/form/div[2]/div[1]/input')\n",
    "sf.send_keys('Laptop')"
   ]
  },
  {
   "cell_type": "code",
   "execution_count": 95,
   "id": "69216bc1",
   "metadata": {},
   "outputs": [],
   "source": [
    "# clicking on search button\n",
    "search = driver.find_element(By.XPATH,'/html/body/div[1]/header/div/div[1]/div[2]/div/form/div[3]/div/span/input')\n",
    "search.click()"
   ]
  },
  {
   "cell_type": "code",
   "execution_count": 96,
   "id": "3a5d00ee",
   "metadata": {},
   "outputs": [],
   "source": [
    "# applying cpu type filter\n",
    "cpu = driver.find_element(By.XPATH,'/html/body/div[1]/div[2]/div[1]/div[2]/div/div[3]/span/div[1]/div/div/div[5]/ul[6]/li[12]/span/a/div/label/i')\n",
    "cpu.click()"
   ]
  },
  {
   "cell_type": "code",
   "execution_count": 97,
   "id": "9f6c8c77",
   "metadata": {},
   "outputs": [],
   "source": [
    "# creating lists for different data\n",
    "title = []\n",
    "rating = []\n",
    "price = []"
   ]
  },
  {
   "cell_type": "code",
   "execution_count": 98,
   "id": "1a719052",
   "metadata": {},
   "outputs": [],
   "source": [
    "# scraping title\n",
    "ti = driver.find_elements(By.XPATH,'//span[@class=\"a-size-medium a-color-base a-text-normal\"]')\n",
    "for i in ti[:10]:        # getting first 10 titles\n",
    "    title.append(i.text)  \n",
    "    \n",
    "# getting ratings\n",
    "rat = driver.find_elements(By.XPATH,'//span[@class=\"a-size-base\"]')\n",
    "for i in rat[:10]:   # getting first 10 ratings respectively\n",
    "    rating.append(i.text)\n",
    "    \n",
    "# getting price\n",
    "pr = driver.find_elements(By.XPATH,'//span[@class=\"a-price-whole\"]')\n",
    "for i in pr[:10]:    # getting first 10 laptop price respectively\n",
    "    price.append(i.text)"
   ]
  },
  {
   "cell_type": "code",
   "execution_count": 99,
   "id": "b01349bb",
   "metadata": {},
   "outputs": [
    {
     "data": {
      "text/plain": [
       "(10, 10, 10)"
      ]
     },
     "execution_count": 99,
     "metadata": {},
     "output_type": "execute_result"
    }
   ],
   "source": [
    "# getting length of data collected\n",
    "len(title),len(rating),len(price)"
   ]
  },
  {
   "cell_type": "code",
   "execution_count": 104,
   "id": "c9af5209",
   "metadata": {},
   "outputs": [
    {
     "data": {
      "text/html": [
       "<div>\n",
       "<style scoped>\n",
       "    .dataframe tbody tr th:only-of-type {\n",
       "        vertical-align: middle;\n",
       "    }\n",
       "\n",
       "    .dataframe tbody tr th {\n",
       "        vertical-align: top;\n",
       "    }\n",
       "\n",
       "    .dataframe thead th {\n",
       "        text-align: right;\n",
       "    }\n",
       "</style>\n",
       "<table border=\"1\" class=\"dataframe\">\n",
       "  <thead>\n",
       "    <tr style=\"text-align: right;\">\n",
       "      <th></th>\n",
       "      <th>Title</th>\n",
       "      <th>Ratings</th>\n",
       "      <th>Price</th>\n",
       "    </tr>\n",
       "  </thead>\n",
       "  <tbody>\n",
       "    <tr>\n",
       "      <th>0</th>\n",
       "      <td>(Renewed) HP ProBook 430 G3 6th Gen Intel Core...</td>\n",
       "      <td>(3.2)</td>\n",
       "      <td>24,960</td>\n",
       "    </tr>\n",
       "    <tr>\n",
       "      <th>1</th>\n",
       "      <td>Samsung Galaxy Book2 Intel 12th Gen core i7 39...</td>\n",
       "      <td>(3.7)</td>\n",
       "      <td>76,490</td>\n",
       "    </tr>\n",
       "    <tr>\n",
       "      <th>2</th>\n",
       "      <td>HP Pavilion Plus, 12th Gen Intel Core i7 16GB ...</td>\n",
       "      <td>(4.0)</td>\n",
       "      <td>93,990</td>\n",
       "    </tr>\n",
       "    <tr>\n",
       "      <th>3</th>\n",
       "      <td>Acer Nitro 5 Gaming Laptop Intel core i7 11th ...</td>\n",
       "      <td>(3.9)</td>\n",
       "      <td>79,990</td>\n",
       "    </tr>\n",
       "    <tr>\n",
       "      <th>4</th>\n",
       "      <td>Lenovo IdeaPad Slim 5 12th Gen Intel Core i7 1...</td>\n",
       "      <td>(4.2)</td>\n",
       "      <td>82,990</td>\n",
       "    </tr>\n",
       "    <tr>\n",
       "      <th>5</th>\n",
       "      <td>(Renewed) HP ProBook 430 G3 6th Gen Intel Core...</td>\n",
       "      <td>(2.4)</td>\n",
       "      <td>22,999</td>\n",
       "    </tr>\n",
       "    <tr>\n",
       "      <th>6</th>\n",
       "      <td>ASUS Vivobook 15, 15.6-inch (39.62 cms) FHD, I...</td>\n",
       "      <td>(3.9)</td>\n",
       "      <td>57,990</td>\n",
       "    </tr>\n",
       "    <tr>\n",
       "      <th>7</th>\n",
       "      <td>(Renewed) Dell Latitude E7470 Intel Core i7 6t...</td>\n",
       "      <td>(4.0)</td>\n",
       "      <td>29,981</td>\n",
       "    </tr>\n",
       "    <tr>\n",
       "      <th>8</th>\n",
       "      <td>HP Pavilion 14 12th Gen Intel Core i7 16GB SDR...</td>\n",
       "      <td>(4.2)</td>\n",
       "      <td>89,000</td>\n",
       "    </tr>\n",
       "    <tr>\n",
       "      <th>9</th>\n",
       "      <td>Fujitsu UH-X 11th Gen Intel Core i7 13.3” FHD ...</td>\n",
       "      <td>(4.4)</td>\n",
       "      <td>79,990</td>\n",
       "    </tr>\n",
       "  </tbody>\n",
       "</table>\n",
       "</div>"
      ],
      "text/plain": [
       "                                               Title Ratings   Price\n",
       "0  (Renewed) HP ProBook 430 G3 6th Gen Intel Core...   (3.2)  24,960\n",
       "1  Samsung Galaxy Book2 Intel 12th Gen core i7 39...   (3.7)  76,490\n",
       "2  HP Pavilion Plus, 12th Gen Intel Core i7 16GB ...   (4.0)  93,990\n",
       "3  Acer Nitro 5 Gaming Laptop Intel core i7 11th ...   (3.9)  79,990\n",
       "4  Lenovo IdeaPad Slim 5 12th Gen Intel Core i7 1...   (4.2)  82,990\n",
       "5  (Renewed) HP ProBook 430 G3 6th Gen Intel Core...   (2.4)  22,999\n",
       "6  ASUS Vivobook 15, 15.6-inch (39.62 cms) FHD, I...   (3.9)  57,990\n",
       "7  (Renewed) Dell Latitude E7470 Intel Core i7 6t...   (4.0)  29,981\n",
       "8  HP Pavilion 14 12th Gen Intel Core i7 16GB SDR...   (4.2)  89,000\n",
       "9  Fujitsu UH-X 11th Gen Intel Core i7 13.3” FHD ...   (4.4)  79,990"
      ]
     },
     "execution_count": 104,
     "metadata": {},
     "output_type": "execute_result"
    }
   ],
   "source": [
    "# making dataframe\n",
    "df = pd.DataFrame({'Title':title,'Ratings':rating,'Price':price})\n",
    "df"
   ]
  },
  {
   "cell_type": "markdown",
   "id": "6eca47d3",
   "metadata": {},
   "source": [
    "# Top 1000 quotes of all time"
   ]
  },
  {
   "cell_type": "code",
   "execution_count": 4,
   "id": "aa0218f9",
   "metadata": {},
   "outputs": [],
   "source": [
    "# importing required libraries\n",
    "import selenium\n",
    "from selenium import webdriver\n",
    "from selenium.webdriver.common.by import By\n",
    "import pandas as pd\n",
    "import warnings\n",
    "warnings.filterwarnings('ignore')\n",
    "import time"
   ]
  },
  {
   "cell_type": "code",
   "execution_count": 5,
   "id": "f0d3f1f1",
   "metadata": {},
   "outputs": [],
   "source": [
    "# connecting to the webdriver\n",
    "driver = webdriver.Chrome(r\"C:\\Users\\sonus\\Downloads\\chromedriver_win32\\chromedriver.exe\")"
   ]
  },
  {
   "cell_type": "code",
   "execution_count": 6,
   "id": "e072421f",
   "metadata": {},
   "outputs": [],
   "source": [
    "# sending url to the webdriver\n",
    "driver.get('https://www.azquotes.com/')"
   ]
  },
  {
   "cell_type": "code",
   "execution_count": 7,
   "id": "e85af17d",
   "metadata": {},
   "outputs": [],
   "source": [
    "# clicking on top quotes\n",
    "quotes = driver.find_element(By.XPATH,'/html/body/div[1]/div[1]/div[1]/div/div[3]/ul/li[5]/a')\n",
    "quotes.click()"
   ]
  },
  {
   "cell_type": "code",
   "execution_count": 8,
   "id": "6b9d87c7",
   "metadata": {},
   "outputs": [],
   "source": [
    "# making lists to collect desired data\n",
    "qu = []\n",
    "au = []\n",
    "tq = []"
   ]
  },
  {
   "cell_type": "code",
   "execution_count": 9,
   "id": "fc5254ff",
   "metadata": {},
   "outputs": [],
   "source": [
    "# we have to go next pages to collect desired amount of data\n",
    "for page in range(10):\n",
    "    # getting quotes\n",
    "    q = driver.find_elements(By.XPATH,'//a[@class=\"title\"]')\n",
    "    for i in q:\n",
    "        qu.append(i.text)\n",
    "    \n",
    "    # getting authors respectively\n",
    "    at = driver.find_elements(By.XPATH,'//div[@class=\"author\"]')\n",
    "    for i in at:\n",
    "        au.append(i.text)\n",
    "        \n",
    "    # getting type of quote\n",
    "    typ = driver.find_elements(By.XPATH,'//div[@class=\"tags\"]')\n",
    "    for i in typ:\n",
    "        tq.append(i.text)\n",
    "        \n",
    "    # clicking next button to go next upto desired pages\n",
    "    nex = driver.find_element(By.XPATH,'/html/body/div[1]/div[2]/div/div/div/div[1]/div/div[3]/li[12]')\n",
    "    # getting the next button by its absolute XPATH because there are 2 next buttons there\n",
    "    nex.click()\n",
    "    time.sleep(11)"
   ]
  },
  {
   "cell_type": "code",
   "execution_count": 10,
   "id": "a5624407",
   "metadata": {},
   "outputs": [
    {
     "data": {
      "text/plain": [
       "(1000, 1000, 1000)"
      ]
     },
     "execution_count": 10,
     "metadata": {},
     "output_type": "execute_result"
    }
   ],
   "source": [
    "# getting length of collected data\n",
    "len(qu),len(au),len(tq)"
   ]
  },
  {
   "cell_type": "code",
   "execution_count": 11,
   "id": "d5c08ed4",
   "metadata": {},
   "outputs": [
    {
     "data": {
      "text/html": [
       "<div>\n",
       "<style scoped>\n",
       "    .dataframe tbody tr th:only-of-type {\n",
       "        vertical-align: middle;\n",
       "    }\n",
       "\n",
       "    .dataframe tbody tr th {\n",
       "        vertical-align: top;\n",
       "    }\n",
       "\n",
       "    .dataframe thead th {\n",
       "        text-align: right;\n",
       "    }\n",
       "</style>\n",
       "<table border=\"1\" class=\"dataframe\">\n",
       "  <thead>\n",
       "    <tr style=\"text-align: right;\">\n",
       "      <th></th>\n",
       "      <th>Quote</th>\n",
       "      <th>Author</th>\n",
       "      <th>Type of Quote</th>\n",
       "    </tr>\n",
       "  </thead>\n",
       "  <tbody>\n",
       "    <tr>\n",
       "      <th>0</th>\n",
       "      <td>The essence of strategy is choosing what not t...</td>\n",
       "      <td>Michael Porter</td>\n",
       "      <td>Essence, Deep Thought, Transcendentalism</td>\n",
       "    </tr>\n",
       "    <tr>\n",
       "      <th>1</th>\n",
       "      <td>One cannot and must not try to erase the past ...</td>\n",
       "      <td>Golda Meir</td>\n",
       "      <td>Inspiration, Past, Trying</td>\n",
       "    </tr>\n",
       "    <tr>\n",
       "      <th>2</th>\n",
       "      <td>Patriotism means to stand by the country. It d...</td>\n",
       "      <td>Theodore Roosevelt</td>\n",
       "      <td>Country, Peace, War</td>\n",
       "    </tr>\n",
       "    <tr>\n",
       "      <th>3</th>\n",
       "      <td>Death is something inevitable. When a man has ...</td>\n",
       "      <td>Nelson Mandela</td>\n",
       "      <td>Inspirational, Motivational, Death</td>\n",
       "    </tr>\n",
       "    <tr>\n",
       "      <th>4</th>\n",
       "      <td>You have to love a nation that celebrates its ...</td>\n",
       "      <td>Erma Bombeck</td>\n",
       "      <td>4th Of July, Food, Patriotic</td>\n",
       "    </tr>\n",
       "    <tr>\n",
       "      <th>...</th>\n",
       "      <td>...</td>\n",
       "      <td>...</td>\n",
       "      <td>...</td>\n",
       "    </tr>\n",
       "    <tr>\n",
       "      <th>995</th>\n",
       "      <td>Regret for the things we did can be tempered b...</td>\n",
       "      <td>Sydney J. Harris</td>\n",
       "      <td>Love, Inspirational, Motivational</td>\n",
       "    </tr>\n",
       "    <tr>\n",
       "      <th>996</th>\n",
       "      <td>America... just a nation of two hundred millio...</td>\n",
       "      <td>Hunter S. Thompson</td>\n",
       "      <td>Gun, Two, Qualms About</td>\n",
       "    </tr>\n",
       "    <tr>\n",
       "      <th>997</th>\n",
       "      <td>For every disciplined effort there is a multip...</td>\n",
       "      <td>Jim Rohn</td>\n",
       "      <td>Inspirational, Greatness, Best Effort</td>\n",
       "    </tr>\n",
       "    <tr>\n",
       "      <th>998</th>\n",
       "      <td>The spiritual journey is individual, highly pe...</td>\n",
       "      <td>Ram Dass</td>\n",
       "      <td>Spiritual, Truth, Yoga</td>\n",
       "    </tr>\n",
       "    <tr>\n",
       "      <th>999</th>\n",
       "      <td>The mind is not a vessel to be filled but a fi...</td>\n",
       "      <td>Plutarch</td>\n",
       "      <td>Inspirational, Leadership, Education</td>\n",
       "    </tr>\n",
       "  </tbody>\n",
       "</table>\n",
       "<p>1000 rows × 3 columns</p>\n",
       "</div>"
      ],
      "text/plain": [
       "                                                 Quote              Author  \\\n",
       "0    The essence of strategy is choosing what not t...      Michael Porter   \n",
       "1    One cannot and must not try to erase the past ...          Golda Meir   \n",
       "2    Patriotism means to stand by the country. It d...  Theodore Roosevelt   \n",
       "3    Death is something inevitable. When a man has ...      Nelson Mandela   \n",
       "4    You have to love a nation that celebrates its ...        Erma Bombeck   \n",
       "..                                                 ...                 ...   \n",
       "995  Regret for the things we did can be tempered b...    Sydney J. Harris   \n",
       "996  America... just a nation of two hundred millio...  Hunter S. Thompson   \n",
       "997  For every disciplined effort there is a multip...            Jim Rohn   \n",
       "998  The spiritual journey is individual, highly pe...            Ram Dass   \n",
       "999  The mind is not a vessel to be filled but a fi...            Plutarch   \n",
       "\n",
       "                                Type of Quote  \n",
       "0    Essence, Deep Thought, Transcendentalism  \n",
       "1                   Inspiration, Past, Trying  \n",
       "2                         Country, Peace, War  \n",
       "3          Inspirational, Motivational, Death  \n",
       "4                4th Of July, Food, Patriotic  \n",
       "..                                        ...  \n",
       "995         Love, Inspirational, Motivational  \n",
       "996                    Gun, Two, Qualms About  \n",
       "997     Inspirational, Greatness, Best Effort  \n",
       "998                    Spiritual, Truth, Yoga  \n",
       "999      Inspirational, Leadership, Education  \n",
       "\n",
       "[1000 rows x 3 columns]"
      ]
     },
     "execution_count": 11,
     "metadata": {},
     "output_type": "execute_result"
    }
   ],
   "source": [
    "# making dataframe\n",
    "df = pd.DataFrame({'Quote':qu,'Author':au,'Type of Quote':tq})\n",
    "df"
   ]
  },
  {
   "cell_type": "code",
   "execution_count": null,
   "id": "7b61c8c9",
   "metadata": {},
   "outputs": [],
   "source": []
  },
  {
   "cell_type": "code",
   "execution_count": null,
   "id": "5b7291e7",
   "metadata": {},
   "outputs": [],
   "source": []
  }
 ],
 "metadata": {
  "kernelspec": {
   "display_name": "Python 3 (ipykernel)",
   "language": "python",
   "name": "python3"
  },
  "language_info": {
   "codemirror_mode": {
    "name": "ipython",
    "version": 3
   },
   "file_extension": ".py",
   "mimetype": "text/x-python",
   "name": "python",
   "nbconvert_exporter": "python",
   "pygments_lexer": "ipython3",
   "version": "3.9.12"
  }
 },
 "nbformat": 4,
 "nbformat_minor": 5
}
